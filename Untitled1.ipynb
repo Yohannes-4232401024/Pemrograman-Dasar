{
  "nbformat": 4,
  "nbformat_minor": 0,
  "metadata": {
    "colab": {
      "provenance": [],
      "authorship_tag": "ABX9TyPR7YKZ3IvXZOkbgHKLzmPr",
      "include_colab_link": true
    },
    "kernelspec": {
      "name": "python3",
      "display_name": "Python 3"
    },
    "language_info": {
      "name": "python"
    }
  },
  "cells": [
    {
      "cell_type": "markdown",
      "metadata": {
        "id": "view-in-github",
        "colab_type": "text"
      },
      "source": [
        "<a href=\"https://colab.research.google.com/github/Yohannes-4232401024/Pemrograman-Dasar/blob/main/Untitled1.ipynb\" target=\"_parent\"><img src=\"https://colab.research.google.com/assets/colab-badge.svg\" alt=\"Open In Colab\"/></a>"
      ]
    },
    {
      "cell_type": "code",
      "execution_count": 1,
      "metadata": {
        "id": "-ca3eeuasCcn"
      },
      "outputs": [],
      "source": [
        "\n"
      ]
    },
    {
      "cell_type": "code",
      "metadata": {
        "colab": {
          "base_uri": "https://localhost:8080/"
        },
        "id": "af76df0c",
        "outputId": "1074b14d-73f3-46a5-846c-eb8d9e8715e3"
      },
      "source": [
        "firstName = \"Yohannes\"\n",
        "lastName = \"Purba\"\n",
        "age = 20\n",
        "isMarried = False\n",
        "\n",
        "print(f\"Nama depan: {firstName}\")\n",
        "print(f\"Nama belakang: {lastName}\")\n",
        "print(f\"Umur: {age}\")\n",
        "print(f\"Status pernikahan: {isMarried}\")"
      ],
      "execution_count": 2,
      "outputs": [
        {
          "output_type": "stream",
          "name": "stdout",
          "text": [
            "Nama depan: Yohannes\n",
            "Nama belakang: Purba\n",
            "Umur: 20\n",
            "Status pernikahan: False\n"
          ]
        }
      ]
    },
    {
      "cell_type": "markdown",
      "source": [],
      "metadata": {
        "id": "wgY3B7UdtAWt"
      }
    }
  ]
}