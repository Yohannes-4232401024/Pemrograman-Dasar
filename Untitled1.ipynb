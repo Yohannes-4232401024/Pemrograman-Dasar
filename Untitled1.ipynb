{
  "nbformat": 4,
  "nbformat_minor": 0,
  "metadata": {
    "colab": {
      "provenance": [],
      "authorship_tag": "ABX9TyMAU7d7yLjnoHGv24eX7aGm",
      "include_colab_link": true
    },
    "kernelspec": {
      "name": "python3",
      "display_name": "Python 3"
    },
    "language_info": {
      "name": "python"
    }
  },
  "cells": [
    {
      "cell_type": "markdown",
      "metadata": {
        "id": "view-in-github",
        "colab_type": "text"
      },
      "source": [
        "<a href=\"https://colab.research.google.com/github/Yohannes-4232401024/Pemrograman-Dasar/blob/main/Untitled1.ipynb\" target=\"_parent\"><img src=\"https://colab.research.google.com/assets/colab-badge.svg\" alt=\"Open In Colab\"/></a>"
      ]
    },
    {
      "cell_type": "code",
      "execution_count": 1,
      "metadata": {
        "colab": {
          "base_uri": "https://localhost:8080/"
        },
        "id": "BpHyCo5SHHOW",
        "outputId": "77d3d76a-9766-4df1-9469-c28899c519ab"
      },
      "outputs": [
        {
          "output_type": "stream",
          "name": "stdout",
          "text": [
            "Yohannes\n",
            "Purba\n",
            "20\n",
            "False\n"
          ]
        }
      ],
      "source": [
        "# biodata\n",
        "data_diri = {\n",
        "    \"firstName\": \"Yohannes\",\n",
        "    \"lastName\": \"Purba\",\n",
        "    \"age\": 20,\n",
        "    \"isMarried\": False\n",
        "}\n",
        "\n",
        "print(data_diri[\"firstName\"])\n",
        "print(data_diri[\"lastName\"])\n",
        "print(data_diri[\"age\"])\n",
        "print(data_diri[\"isMarried\"])"
      ]
    },
    {
      "cell_type": "code",
      "source": [],
      "metadata": {
        "id": "eE_z1gUKHUQQ"
      },
      "execution_count": null,
      "outputs": []
    }
  ]
}