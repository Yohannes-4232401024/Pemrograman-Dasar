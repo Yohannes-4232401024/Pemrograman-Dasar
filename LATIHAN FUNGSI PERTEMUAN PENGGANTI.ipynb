{
  "nbformat": 4,
  "nbformat_minor": 0,
  "metadata": {
    "colab": {
      "provenance": [],
      "authorship_tag": "ABX9TyMXqjIJ0u4avJluE1lE6oQQ",
      "include_colab_link": true
    },
    "kernelspec": {
      "name": "python3",
      "display_name": "Python 3"
    },
    "language_info": {
      "name": "python"
    }
  },
  "cells": [
    {
      "cell_type": "markdown",
      "metadata": {
        "id": "view-in-github",
        "colab_type": "text"
      },
      "source": [
        "<a href=\"https://colab.research.google.com/github/Yohannes-4232401024/Pemrograman-Dasar/blob/main/LATIHAN%20FUNGSI%20PERTEMUAN%20PENGGANTI.ipynb\" target=\"_parent\"><img src=\"https://colab.research.google.com/assets/colab-badge.svg\" alt=\"Open In Colab\"/></a>"
      ]
    },
    {
      "cell_type": "code",
      "execution_count": null,
      "metadata": {
        "colab": {
          "base_uri": "https://localhost:8080/"
        },
        "id": "inGEXnunAe-x",
        "outputId": "5b8eca33-44aa-45e6-bdff-608aaf742c96"
      },
      "outputs": [
        {
          "output_type": "stream",
          "name": "stdout",
          "text": [
            "\n",
            "=========================\n",
            "      BIODATA LENGKAP      \n",
            "=========================\n",
            "Nama Lengkap  : Yohannes Paruntungan Purba\n",
            "NIM           : 4232401024\n",
            "Jurusan       : Teknik Elektro\n",
            "Prodi         : Rekayasa Pembangkit Energi\n",
            "Universitas   : Politeknik Negeri Batam\n",
            "=========================\n"
          ]
        }
      ],
      "source": [
        "# Soal 1: Fungsi Sederhana Tanpa Parameter (Inisialisasi)\n",
        "\n",
        "def Biodata():\n",
        "    \"\"\"Menampilkan biodata lengkap (Nama, NIM, Jurusan, dll.).\"\"\"\n",
        "\n",
        "    NAMA_LENGKAP = \"Yohannes Paruntungan Purba\"\n",
        "    NIM_ANDA     = \"4232401024\"\n",
        "    JURUSAN      = \"Teknik Elektro\"\n",
        "    PRODI        = \"Rekayasa Pembangkit Energi\"\n",
        "    UNIVERSITAS  = \"Politeknik Negeri Batam\"\n",
        "\n",
        "    print(\"\\n=========================\")\n",
        "    print(\"      BIODATA LENGKAP      \")\n",
        "    print(\"=========================\")\n",
        "    print(f\"Nama Lengkap  : {NAMA_LENGKAP}\")\n",
        "    print(f\"NIM           : {NIM_ANDA}\")\n",
        "    print(f\"Jurusan       : {JURUSAN}\")\n",
        "    print(f\"Prodi         : {PRODI}\")\n",
        "    print(f\"Universitas   : {UNIVERSITAS}\")\n",
        "    print(\"=========================\")\n",
        "\n",
        "# Pemanggilan:\n",
        "Biodata()"
      ]
    },
    {
      "cell_type": "code",
      "source": [
        "# MODIFIKASI: Fungsi untuk menampilkan Biodata Lengkap\n",
        "def Biodata():\n",
        "  \"\"\"Menampilkan biodata lengkap.\"\"\"\n",
        "  nama   = \"Yohannes Paruntungan Purba\"\n",
        "  usia   = \"20\"\n",
        "  alamat = \"Bukit Indah Sukajadi\"\n",
        "  status = \"Mahasiswa\"\n",
        "  hobi   = \"Badminton\"\n",
        "\n",
        "  print(\"Biodata Lengkap:\")\n",
        "  print(f\"Nama   : {nama}\")\n",
        "  print(f\"Usia   : {usia}\")\n",
        "  print(f\"Alamat : {alamat}\")\n",
        "  print(f\"Status : {status}\")\n",
        "  print(f\"Hobi   : {hobi}\")\n",
        "  print(\"=========================\")\n",
        "# Pemanggilan fungsi:\n",
        "Biodata()"
      ],
      "metadata": {
        "colab": {
          "base_uri": "https://localhost:8080/"
        },
        "id": "YmbV630Z51bB",
        "outputId": "d5c35e47-ea5b-4303-910c-36bb5058ca24"
      },
      "execution_count": null,
      "outputs": [
        {
          "output_type": "stream",
          "name": "stdout",
          "text": [
            "Biodata Lengkap:\n",
            "Nama   : Yohannes Paruntungan Purba\n",
            "Usia   : 20\n",
            "Alamat : Bukit Indah Sukajadi\n",
            "Status : Mahasiswa\n",
            "Hobi   : Badminton\n",
            "=========================\n"
          ]
        }
      ]
    },
    {
      "cell_type": "code",
      "source": [
        "# Soal 2: Fungsi dengan Parameter Primitif (Matematika)\n",
        "\n",
        "def hitung_volume_balok(panjang, lebar, tinggi):\n",
        "    \"\"\"Menghitung volume balok (V = p * l * t).\"\"\"\n",
        "    return panjang * lebar * tinggi\n",
        "\n",
        "# Variabel input contoh:\n",
        "p = 20\n",
        "l = 7\n",
        "t = 5\n",
        "hasil_balok = hitung_volume_balok(p, l, t)\n",
        "\n",
        "print(\"\\n=================================\")\n",
        "print(\"HASIL MODIFIKASI: VOLUME BALOK\")\n",
        "print(\"=================================\")\n",
        "print(\"DIKETAHUI:\")\n",
        "print(f\"  Panjang (p) = {p}\")\n",
        "print(f\"  Lebar (l)   = {l}\")\n",
        "print(f\"  Tinggi (t)  = {t}\")\n",
        "print(\"---------------------------------\")\n",
        "print(\"DITANYA:\")\n",
        "print(\"  Volume Balok (V) = ?\")\n",
        "print(\"---------------------------------\")\n",
        "print(\"DIJAWAB:\")\n",
        "print(f\"  Rumus: V = p × l × t\")\n",
        "print(f\"  Perhitungan: V = {p} × {l} × {t} = {hasil_balok}\")\n",
        "print(\"---------------------------------\")\n",
        "print(f\"HASIL AKHIR: Volume balok adalah {hasil_balok}\")\n",
        "print(\"=================================\")\n"
      ],
      "metadata": {
        "colab": {
          "base_uri": "https://localhost:8080/"
        },
        "id": "Hik-ilzzIJbN",
        "outputId": "fa2afdd3-4025-4358-bb6c-10fc275a62cd"
      },
      "execution_count": null,
      "outputs": [
        {
          "output_type": "stream",
          "name": "stdout",
          "text": [
            "\n",
            "=================================\n",
            "HASIL MODIFIKASI: VOLUME BALOK\n",
            "=================================\n",
            "DIKETAHUI:\n",
            "  Panjang (p) = 20\n",
            "  Lebar (l)   = 7\n",
            "  Tinggi (t)  = 5\n",
            "---------------------------------\n",
            "DITANYA:\n",
            "  Volume Balok (V) = ?\n",
            "---------------------------------\n",
            "DIJAWAB:\n",
            "  Rumus: V = p × l × t\n",
            "  Perhitungan: V = 20 × 7 × 5 = 700\n",
            "---------------------------------\n",
            "HASIL AKHIR: Volume balok adalah 700\n",
            "=================================\n"
          ]
        }
      ]
    },
    {
      "cell_type": "code",
      "source": [
        "# Modifikasi Fungsi menghitung volume balok\n",
        "def hitung_volume_balok(panjang, lebar, tinggi):\n",
        "    \"\"\"Menghitung volume balok berdasarkan panjang, lebar, dan tinggi.\"\"\"\n",
        "    return panjang * lebar * tinggi\n",
        "\n",
        "# Pemanggilan:\n",
        "p = 15\n",
        "l = 6\n",
        "t = 8\n",
        "volume = hitung_volume_balok(p, l, t)\n",
        "print(f\"Volume balok dengan panjang {p},\")\n",
        "print(f\"lebar {l}, dan tinggi {t}\")\n",
        "print(f\"adalah: {volume}\")"
      ],
      "metadata": {
        "colab": {
          "base_uri": "https://localhost:8080/"
        },
        "id": "FOkbtkg07DWI",
        "outputId": "f5594780-7efa-4216-eef9-cf6253b8fa4c"
      },
      "execution_count": null,
      "outputs": [
        {
          "output_type": "stream",
          "name": "stdout",
          "text": [
            "Volume balok dengan panjang 15,\n",
            "lebar 6, dan tinggi 8\n",
            "adalah: 720\n"
          ]
        }
      ]
    },
    {
      "cell_type": "code",
      "source": [
        "# Soal 3: Fungsi dengan Parameter Non-Primitif (list) dan Perulangan (for)\n",
        "\n",
        "def hitung_rata_rata_dengan_validasi(data_nilai):\n",
        "    \"\"\"Menghitung rata-rata dari list angka, mengabaikan nilai < 0 atau > 100.\"\"\"\n",
        "    total = 0\n",
        "    jumlah_valid = 0\n",
        "    PENALTI = 5 # Jika ingin memberikan penalti (optional)\n",
        "\n",
        "    print(\"--- Proses Validasi Nilai ---\")\n",
        "\n",
        "    # Perulangan untuk menjumlahkan nilai\n",
        "    for nilai in data_nilai:\n",
        "        if 0 <= nilai <= 100:\n",
        "            # Nilai valid: ditambahkan ke total dan jumlah valid\n",
        "            total += nilai\n",
        "            jumlah_valid += 1\n",
        "            print(f\"✅ Nilai {nilai} OK.\")\n",
        "        else:\n",
        "            # Nilai tidak valid: Diabaikan atau diberi penalti\n",
        "\n",
        "            # --- Pilihan 1: Mengabaikan nilai tidak valid ---\n",
        "            # continue\n",
        "\n",
        "            # --- Pilihan 2: Memberikan Penalti ---\n",
        "            if nilai < 0 or nilai > 100:\n",
        "                 total += PENALTI\n",
        "                 jumlah_valid += 1\n",
        "                 print(f\"❌ Nilai {nilai} tidak valid. Diberi penalti {PENALTI} poin.\")\n",
        "\n",
        "    print(\"-----------------------------\")\n",
        "\n",
        "    # Pembagian untuk rata-rata\n",
        "    if jumlah_valid > 0:\n",
        "        return total / jumlah_valid\n",
        "    return 0\n",
        "\n",
        "# Pemanggilan Modifikasi (dengan nilai outlier untuk testing):\n",
        "nilai_praktikan_outlier = [80, 110, 70, -10, 95]\n",
        "rata_rata_modifikasi = hitung_rata_rata_dengan_validasi(nilai_praktikan_outlier)\n",
        "\n",
        "print(f\"\\nNilai rata-rata kelas (setelah validasi/penalti) adalah: {rata_rata_modifikasi:.2f}\")"
      ],
      "metadata": {
        "colab": {
          "base_uri": "https://localhost:8080/"
        },
        "id": "KL3rMNNuI3hG",
        "outputId": "ae1a76cb-2f35-41f7-e16e-3d548d4a1b8c"
      },
      "execution_count": null,
      "outputs": [
        {
          "output_type": "stream",
          "name": "stdout",
          "text": [
            "--- Proses Validasi Nilai ---\n",
            "✅ Nilai 80 OK.\n",
            "❌ Nilai 110 tidak valid. Diberi penalti 5 poin.\n",
            "✅ Nilai 70 OK.\n",
            "❌ Nilai -10 tidak valid. Diberi penalti 5 poin.\n",
            "✅ Nilai 95 OK.\n",
            "-----------------------------\n",
            "\n",
            "Nilai rata-rata kelas (setelah validasi/penalti) adalah: 51.00\n"
          ]
        }
      ]
    },
    {
      "cell_type": "code",
      "source": [
        "# Modifikasi Menghitung Rata-rata dengan Validasi Nilai Rata Rata Kelas\n",
        "def hitung_rata_rata(data_nilai):\n",
        "    \"\"\"Menghitung rata-rata dari list angka dengan pengecekan nilai valid.\"\"\"\n",
        "    total = 0\n",
        "    jumlah_valid = 0\n",
        "\n",
        "    # Perulangan untuk menjumlahkan nilai\n",
        "    for nilai in data_nilai:\n",
        "        # Cek apakah nilai valid (antara 0 dan 100)\n",
        "        if 0 <= nilai <= 100:\n",
        "            total += nilai\n",
        "            jumlah_valid += 1\n",
        "        else:\n",
        "            print(f\"Nilai {nilai} tidak valid, diabaikan atau diberi penalti 0.\")\n",
        "            # nilai tidak valid dianggap 0 (opsional penalti)\n",
        "            # total += 0\n",
        "\n",
        "    # Pembagian untuk rata-rata\n",
        "    if jumlah_valid > 0:\n",
        "        return total / jumlah_valid\n",
        "    return 0\n",
        "\n",
        "# Pemanggilan:\n",
        "nilai_praktikan = [90, 98, 95, -13, 200]\n",
        "print(f\"Nilai rata-rata kelas adalah: {hitung_rata_rata(nilai_praktikan)}\")\n"
      ],
      "metadata": {
        "id": "-PxS6HB38Mq9",
        "outputId": "6a0978c0-1d1e-45b4-a9fe-838be8a7a527",
        "colab": {
          "base_uri": "https://localhost:8080/"
        }
      },
      "execution_count": null,
      "outputs": [
        {
          "output_type": "stream",
          "name": "stdout",
          "text": [
            "Nilai -13 tidak valid, diabaikan atau diberi penalti 0.\n",
            "Nilai 200 tidak valid, diabaikan atau diberi penalti 0.\n",
            "Nilai rata-rata kelas adalah: 94.33333333333333\n"
          ]
        }
      ]
    },
    {
      "cell_type": "code",
      "source": [
        "# Soal 4: Fungsi dengan Percabangan (if, elif, else)\n",
        "\n",
        "def tentukan_predikat_valid(skor):\n",
        "    \"\"\"Menentukan predikat, hanya menerima input numerik (int/float).\"\"\"\n",
        "\n",
        "    # MODIFIKASI: Pengecekan Tipe Data\n",
        "    if not isinstance(skor, (int, float)):\n",
        "        return \"Error: Input harus berupa angka (numerik).\"\n",
        "\n",
        "    # Kriteria Predikat\n",
        "    if skor >= 85:\n",
        "        return \"A\"\n",
        "    elif skor >= 70:\n",
        "        return \"B\"\n",
        "    elif skor >= 60:\n",
        "        return \"C\"\n",
        "    elif skor >= 50:\n",
        "        return \"D\"\n",
        "    else:\n",
        "        return \"E\"\n",
        "\n",
        "# Pemanggilan:\n",
        "print(\"\\n--- Hasil Modifikasi (Pengecekan Tipe Data) ---\")\n",
        "print(f\"Skor 88 (numerik) mendapat predikat: {tentukan_predikat_valid(88)}\")\n",
        "print(f\"Input 'Tujuh Lima' (non-numerik): {tentukan_predikat_valid('Tujuh Lima')}\")\n",
        "print(f\"Skor 62.5 (float) mendapat predikat: {tentukan_predikat_valid(62.5)}\")"
      ],
      "metadata": {
        "colab": {
          "base_uri": "https://localhost:8080/"
        },
        "id": "h-1DHloak0kn",
        "outputId": "158d9d94-e07c-4c1c-996d-618d971ee6a3"
      },
      "execution_count": null,
      "outputs": [
        {
          "output_type": "stream",
          "name": "stdout",
          "text": [
            "\n",
            "--- Hasil Modifikasi (Pengecekan Tipe Data) ---\n",
            "Skor 88 (numerik) mendapat predikat: A\n",
            "Input 'Tujuh Lima' (non-numerik): Error: Input harus berupa angka (numerik).\n",
            "Skor 62.5 (float) mendapat predikat: C\n"
          ]
        }
      ]
    },
    {
      "cell_type": "code",
      "source": [
        "# Modifikasi Sistem Penentuan Predikat Nilai dengan Validasi Tipe Data\n",
        "def tentukan_predikat(skor):\n",
        "    \"\"\"Menentukan predikat (A, B, C, D, E) berdasarkan skor, dengan validasi tipe data.\"\"\"\n",
        "\n",
        "    # Pengecekan tipe data agar hanya menerima angka\n",
        "    if not isinstance(skor, (int, float)):\n",
        "        return \"Error: Input harus berupa angka (int atau float).\"\n",
        "\n",
        "    # Pengecekan agar skor berada dalam rentang 0–100\n",
        "    if skor < 0 or skor > 100:\n",
        "        return \"Error: Skor harus berada di antara 0 dan 100.\"\n",
        "\n",
        "    # Penentuan predikat\n",
        "    if skor >= 85:\n",
        "        return \"A\"\n",
        "    elif skor >= 70:\n",
        "        return \"B\"\n",
        "    elif skor >= 60:\n",
        "        return \"C\"\n",
        "    elif skor >= 50:\n",
        "        return \"D\"\n",
        "    else:\n",
        "        return \"E\"\n",
        "\n",
        "\n",
        "# Contoh Pemanggilan:\n",
        "print(tentukan_predikat(97))     # Output: A\n",
        "print(tentukan_predikat(50))   # Output: B\n",
        "print(tentukan_predikat(\"90\"))   # Error: Input harus berupa angka\n",
        "print(tentukan_predikat(-60))    # Error: Skor harus berada di antara 0 dan 100"
      ],
      "metadata": {
        "id": "rWR3t31r8SaF",
        "outputId": "baf63e15-0770-4d86-e512-fc3f94abb3a7",
        "colab": {
          "base_uri": "https://localhost:8080/"
        }
      },
      "execution_count": null,
      "outputs": [
        {
          "output_type": "stream",
          "name": "stdout",
          "text": [
            "A\n",
            "D\n",
            "Error: Input harus berupa angka (int atau float).\n",
            "Error: Skor harus berada di antara 0 dan 100.\n"
          ]
        }
      ]
    },
    {
      "cell_type": "code",
      "source": [
        "# Soal 5: Fungsi dengan Implementasi Perulangan while\n",
        "\n",
        "def hitung_faktorial_valid(n):\n",
        "    \"\"\"Menghitung faktorial dari bilangan positif n, dengan validasi.\"\"\"\n",
        "\n",
        "    # MODIFIKASI: Penanganan Kasus Khusus\n",
        "    if n < 0:\n",
        "        return \"Error: Faktorial hanya terdefinisi untuk bilangan non-negatif.\"\n",
        "\n",
        "    if n == 0:\n",
        "        return 1\n",
        "\n",
        "    # Implementasi Perulangan While\n",
        "    hasil = 1\n",
        "    # Kita bisa menggunakan copy dari n jika tidak ingin mengubah n aslinya,\n",
        "    # tetapi dalam konteks ini, memodifikasi n adalah hal yang umum.\n",
        "\n",
        "    while n > 1:\n",
        "        hasil *= n\n",
        "        n -= 1\n",
        "\n",
        "    return hasil\n",
        "\n",
        "# Pemanggilan Modifikasi:\n",
        "print(\"\\n--- Hasil Modifikasi (Penanganan Kasus Khusus) ---\")\n",
        "print(f\"Faktorial dari 5 adalah: {hitung_faktorial_valid(5)}\")\n",
        "print(f\"Faktorial dari 0 adalah: {hitung_faktorial_valid(0)}\")\n",
        "print(f\"Faktorial dari -3 adalah: {hitung_faktorial_valid(-3)}\")\n"
      ],
      "metadata": {
        "colab": {
          "base_uri": "https://localhost:8080/"
        },
        "id": "9SZbp66Glr1o",
        "outputId": "5ef2d4b5-d053-4d87-a3d8-22ed49306772"
      },
      "execution_count": null,
      "outputs": [
        {
          "output_type": "stream",
          "name": "stdout",
          "text": [
            "\n",
            "--- Hasil Modifikasi (Penanganan Kasus Khusus) ---\n",
            "Faktorial dari 5 adalah: 120\n",
            "Faktorial dari 0 adalah: 1\n",
            "Faktorial dari -3 adalah: Error: Faktorial hanya terdefinisi untuk bilangan non-negatif.\n"
          ]
        }
      ]
    },
    {
      "cell_type": "code",
      "source": [
        "def hitung_faktorial(n):\n",
        "    \"\"\"Menghitung faktorial dari bilangan positif n dengan pengecekan nilai khusus.\"\"\"\n",
        "\n",
        "    # Kasus jika n negatif\n",
        "    if n < 0:\n",
        "        return \"Error: Faktorial tidak terdefinisi untuk bilangan negatif.\"\n",
        "\n",
        "    # Kasus khusus jika n = 0\n",
        "    elif n == 0:\n",
        "        return 1  # Secara matematis, 0! = 1\n",
        "\n",
        "    # Perhitungan faktorial untuk n > 0\n",
        "    hasil = 1\n",
        "    while n > 1:\n",
        "        hasil *= n\n",
        "        n -= 1\n",
        "    return hasil\n",
        "\n",
        "\n",
        "# Contoh Pemanggilan:\n",
        "print(hitung_faktorial(3))\n",
        "print(hitung_faktorial(4))\n",
        "print(hitung_faktorial(-8))\n"
      ],
      "metadata": {
        "id": "M2Tw1N7w8ckV",
        "outputId": "1e06ab1a-3311-4159-a288-94d99c14daa1",
        "colab": {
          "base_uri": "https://localhost:8080/"
        }
      },
      "execution_count": null,
      "outputs": [
        {
          "output_type": "stream",
          "name": "stdout",
          "text": [
            "6\n",
            "24\n",
            "Error: Faktorial tidak terdefinisi untuk bilangan negatif.\n"
          ]
        }
      ]
    },
    {
      "cell_type": "code",
      "source": [
        "# Soal 6: Fungsi Komprehensif (Gabungan Perulangan dan Percabangan)\n",
        "\n",
        "def analisis_suhu_modifikasi(data_suhu, batas_panas=35, batas_dingin=15):\n",
        "    \"\"\"\n",
        "    Menghitung jumlah hari Panas dan Dingin menggunakan batas yang dapat disesuaikan.\n",
        "    Default: batas_panas=35, batas_dingin=15.\n",
        "    \"\"\"\n",
        "    panas_count = 0\n",
        "    dingin_count = 0\n",
        "\n",
        "    for suhu in data_suhu:\n",
        "        if suhu >= batas_panas:\n",
        "            panas_count += 1\n",
        "        elif suhu <= batas_dingin:\n",
        "            dingin_count += 1\n",
        "\n",
        "    return panas_count, dingin_count\n",
        "\n",
        "# Data suhu yang sama\n",
        "suhu_mingguan = [36, 30, 14, 25, 38, 16, 28]\n",
        "\n",
        "# Pemanggilan 1: Menggunakan nilai default (35 dan 15)\n",
        "jp_def, jd_def = analisis_suhu_modifikasi(suhu_mingguan)\n",
        "print(\"\\n--- Hasil Modifikasi (Nilai Default) ---\")\n",
        "print(f\"Batas Panas: >=35°C, Batas Dingin: <=15°C\")\n",
        "print(f\"Jumlah hari Panas: {jp_def}\") # Output: 2\n",
        "print(f\"Jumlah hari Dingin: {jd_def}\") # Output: 1\n",
        "\n",
        "# Pemanggilan 2: Menggunakan batas kustom (misal: 30 dan 20)\n",
        "jp_kustom, jd_kustom = analisis_suhu_modifikasi(suhu_mingguan, batas_panas=30, batas_dingin=20)\n",
        "print(\"\\n--- Hasil Modifikasi (Batas Kustom) ---\")\n",
        "print(f\"Batas Panas: >=30°C, Batas Dingin: <=20°C\")\n",
        "print(f\"Jumlah hari Panas: {jp_kustom}\") # Output: 3 (36, 30, 38)\n",
        "print(f\"Jumlah hari Dingin: {jd_kustom}\") # Output: 1 (14)"
      ],
      "metadata": {
        "colab": {
          "base_uri": "https://localhost:8080/"
        },
        "id": "ZDG6weO5mdnr",
        "outputId": "c584b253-0f48-463f-9229-b976a49bd4e6"
      },
      "execution_count": null,
      "outputs": [
        {
          "output_type": "stream",
          "name": "stdout",
          "text": [
            "\n",
            "--- Hasil Modifikasi (Nilai Default) ---\n",
            "Batas Panas: >=35°C, Batas Dingin: <=15°C\n",
            "Jumlah hari Panas: 2\n",
            "Jumlah hari Dingin: 1\n",
            "\n",
            "--- Hasil Modifikasi (Batas Kustom) ---\n",
            "Batas Panas: >=30°C, Batas Dingin: <=20°C\n",
            "Jumlah hari Panas: 3\n",
            "Jumlah hari Dingin: 2\n"
          ]
        }
      ]
    },
    {
      "cell_type": "code",
      "source": [
        "# Modifikasi Analisis Data Suhu dengan Parameter Opsional\n",
        "def analisis_suhu(data_suhu, batas_panas=35, batas_dingin=15):\n",
        "    \"\"\"Menghitung jumlah hari Panas dan Dingin dari data_suhu\n",
        "    dengan batas suhu yang dapat disesuaikan.\"\"\"\n",
        "\n",
        "    panas_count = 0\n",
        "    dingin_count = 0\n",
        "\n",
        "    for suhu in data_suhu:\n",
        "        if suhu >= batas_panas:\n",
        "            panas_count += 1\n",
        "        elif suhu <= batas_dingin:\n",
        "            dingin_count += 1\n",
        "\n",
        "    return panas_count, dingin_count\n",
        "\n",
        "\n",
        "# Pemanggilan (menggunakan nilai default)\n",
        "suhu_mingguan = [36, 30, 14, 25, 38, 16, 28]\n",
        "jumlah_panas, jumlah_dingin = analisis_suhu(suhu_mingguan)\n",
        "print(f\"Jumlah hari Panas (>=35°C): {jumlah_panas}\")\n",
        "print(f\"Jumlah hari Dingin (<=15°C): {jumlah_dingin}\")\n",
        "\n",
        "# Pemanggilan (dengan batas yang disesuaikan)\n",
        "jumlah_panas2, jumlah_dingin2 = analisis_suhu(suhu_mingguan, batas_panas=33, batas_dingin=17)\n",
        "print(f\"\\n[Versi Batas Disesuaikan]\")\n",
        "print(f\"Jumlah hari Panas (>=31°C): {jumlah_panas}\")\n",
        "print(f\"Jumlah hari Dingin (<=20°C): {jumlah_dingin}\")\n",
        "\n"
      ],
      "metadata": {
        "id": "sir-XK_48gNS",
        "outputId": "0e53c87c-ca0d-481c-aa2f-9bc14c912440",
        "colab": {
          "base_uri": "https://localhost:8080/"
        }
      },
      "execution_count": null,
      "outputs": [
        {
          "output_type": "stream",
          "name": "stdout",
          "text": [
            "Jumlah hari Panas (>=35°C): 2\n",
            "Jumlah hari Dingin (<=15°C): 1\n",
            "\n",
            "[Versi Batas Disesuaikan]\n",
            "Jumlah hari Panas (>=31°C): 2\n",
            "Jumlah hari Dingin (<=20°C): 1\n"
          ]
        }
      ]
    }
  ]
}