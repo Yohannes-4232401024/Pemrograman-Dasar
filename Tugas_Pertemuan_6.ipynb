{
  "nbformat": 4,
  "nbformat_minor": 0,
  "metadata": {
    "colab": {
      "provenance": [],
      "authorship_tag": "ABX9TyMDQ10bOR54CHXBS4IvzQdp",
      "include_colab_link": true
    },
    "kernelspec": {
      "name": "python3",
      "display_name": "Python 3"
    },
    "language_info": {
      "name": "python"
    }
  },
  "cells": [
    {
      "cell_type": "markdown",
      "metadata": {
        "id": "view-in-github",
        "colab_type": "text"
      },
      "source": [
        "<a href=\"https://colab.research.google.com/github/Yohannes-4232401024/Pemrograman-Dasar/blob/main/Tugas_Pertemuan_6.ipynb\" target=\"_parent\"><img src=\"https://colab.research.google.com/assets/colab-badge.svg\" alt=\"Open In Colab\"/></a>"
      ]
    },
    {
      "cell_type": "code",
      "source": [
        "\n",
        "\n",
        "    # Tipe data non primitif\n",
        "    siswa = [\"Harits\", \"michael\", \"Murtado\", \"Wahyu\", \"Togar\"]  # list\n",
        "    nilai = (85, 70, 90, 60, 75)  # tuple\n",
        "    hasil = {}  # dictionary untuk menyimpan hasil analisis\n",
        "    nilai_unik = set(nilai)  # set untuk menampung nilai unik\n",
        "\n",
        "    print(\"=== Analisis Nilai Siswa ===\")\n",
        "    print(f\"Nilai unik yang muncul: {nilai_unik}\\n\")\n",
        "\n",
        "    # Perulangan For\n",
        "    for i in range(len(siswa)):\n",
        "        nama = siswa[i]\n",
        "        skor = nilai[i]\n",
        "\n",
        "        # Percabangan If, Elif, Else\n",
        "        if skor >= 85:\n",
        "            kategori = \"Sangat Baik\"\n",
        "        elif skor >= 70:\n",
        "            kategori = \"Baik\"\n",
        "        else:\n",
        "            kategori = \"Perlu Bimbingan\"\n",
        "\n",
        "        # Menyimpan ke dictionary\n",
        "        hasil[nama] = kategori\n",
        "\n",
        "    # Menampilkan hasil analisis\n",
        "    for nama, kategori in hasil.items():\n",
        "        print(f\"{nama} termasuk kategori: {kategori}\")\n",
        "\n",
        "    # Perulangan While untuk menghitung rata-rata\n",
        "    total = 0\n",
        "    index = 0\n",
        "    while index < len(nilai):\n",
        "        total += nilai[index]\n",
        "        index += 1\n",
        "\n",
        "    rata_rata = total / len(nilai)\n",
        "\n",
        "    # Percabangan dengan boolean\n",
        "    lulus_semua = all(n >= 60 for n in nilai)  # boolean\n",
        "    print(\"Rata-rata nilai:\", rata_rata)\n",
        "    print(\"Semua siswa lulus:\", lulus_semua)\n",
        "\n",
        "\n",
        "# Pemanggilan fungsi\n",
        "analisis_nilai_siswa()\n"
      ],
      "metadata": {
        "colab": {
          "base_uri": "https://localhost:8080/"
        },
        "id": "Z1yB_zoMdiOK",
        "outputId": "69dd4381-6926-48f6-e633-a6df2ab6a82f"
      },
      "execution_count": null,
      "outputs": [
        {
          "output_type": "stream",
          "name": "stdout",
          "text": [
            "=== Analisis Nilai Siswa ===\n",
            "Nilai unik yang muncul: {70, 75, 85, 90, 60}\n",
            "\n",
            "Harits termasuk kategori: Sangat Baik\n",
            "michael termasuk kategori: Baik\n",
            "Murtado termasuk kategori: Sangat Baik\n",
            "Wahyu termasuk kategori: Perlu Bimbingan\n",
            "Togar termasuk kategori: Baik\n",
            "Rata-rata nilai: 76.0\n",
            "Semua siswa lulus: True\n",
            "=== Analisis Nilai Siswa ===\n",
            "Nilai unik yang muncul: {70, 75, 85, 90, 60}\n",
            "\n",
            "Harits termasuk kategori: Sangat Baik\n",
            "michael termasuk kategori: Baik\n",
            "Murtado termasuk kategori: Sangat Baik\n",
            "Wahyu termasuk kategori: Perlu Bimbingan\n",
            "Togar termasuk kategori: Baik\n",
            "Rata-rata nilai: 76.0\n",
            "Semua siswa lulus: True\n"
          ]
        }
      ]
    }
  ]
}