{
  "nbformat": 4,
  "nbformat_minor": 0,
  "metadata": {
    "colab": {
      "provenance": [],
      "authorship_tag": "ABX9TyPz4BFhJgUyk0iWCvtVJANn",
      "include_colab_link": true
    },
    "kernelspec": {
      "name": "python3",
      "display_name": "Python 3"
    },
    "language_info": {
      "name": "python"
    }
  },
  "cells": [
    {
      "cell_type": "markdown",
      "metadata": {
        "id": "view-in-github",
        "colab_type": "text"
      },
      "source": [
        "<a href=\"https://colab.research.google.com/github/Yohannes-4232401024/Pemrograman-Dasar/blob/main/Praktikum%20meet%204.ipynb\" target=\"_parent\"><img src=\"https://colab.research.google.com/assets/colab-badge.svg\" alt=\"Open In Colab\"/></a>"
      ]
    },
    {
      "cell_type": "code",
      "execution_count": 3,
      "metadata": {
        "id": "2RIdyCVqbFYt",
        "colab": {
          "base_uri": "https://localhost:8080/"
        },
        "outputId": "fd4e8e5a-8022-4261-d66a-bcfba5e2ebb8"
      },
      "outputs": [
        {
          "output_type": "stream",
          "name": "stdout",
          "text": [
            "pengunjung adalah orang dewasa\n"
          ]
        }
      ],
      "source": [
        "# praktikum 1\n",
        "# variabel untuk menyimpan umur pengunjung\n",
        "umur: int = 21\n",
        "# program hanya akan mencetak pesan jika umur diatas 17\n",
        "if umur > 17:\n",
        "  print(\"pengunjung adalah orang dewasa\")\n",
        "\n"
      ]
    },
    {
      "cell_type": "code",
      "source": [
        "# Praktikum 2\n",
        "# program untuk mengecek bonus dan diskon\n",
        "\n",
        "nama = input(\"masukkan nama anda: \")\n",
        "total_belanja = float(input(\"masukkan total belanja anda (Rp): \"))\n",
        "\n",
        "if total_belanja > 500000:\n",
        "  diskon = total_belanja * 0.2\n",
        "  total_bayar = total_belanja - diskon\n",
        "  print(\"Selamat karena anda belanja > Rp 500000\")\n",
        "  print(f\"{nama} kamu mendapat diskon 20%!\")\n",
        "  print(f\"Total belanja sebelum diskon: Rp {total_belanja}\")\n",
        "  print(f\"Potongan harga: Rp {diskon}\")\n",
        "  print(f\"Total belanja setelah diskon: Rp {total_bayar}\")\n",
        "  print(f\"total yang harus dibayar: Rp {total_bayar}\")\n",
        "else:\n",
        "  print(f\"Halo {nama}, kamu belum mendapat diskon\")\n",
        "  print(f\"total yang harus dibayar: Rp {total_belanja}\")\n",
        "\n",
        "print(\"\\nTerimakasih sudah berbelanja\")"
      ],
      "metadata": {
        "colab": {
          "base_uri": "https://localhost:8080/"
        },
        "id": "T6nAxt9KjarW",
        "outputId": "b04ea386-0c47-4208-9727-1cc9c497c970"
      },
      "execution_count": 10,
      "outputs": [
        {
          "output_type": "stream",
          "name": "stdout",
          "text": [
            "masukkan nama anda: Yohannes \n",
            "masukkan total belanja anda (Rp): 700000\n",
            "Selamat karena anda belanja > Rp 500000\n",
            "Yohannes  kamu mendapat diskon 20%!\n",
            "Total belanja sebelum diskon: Rp 700000.0\n",
            "Potongan harga: Rp 140000.0\n",
            "Total belanja setelah diskon: Rp 560000.0\n",
            "total yang harus dibayar: Rp 560000.0\n",
            "\n",
            "Terimakasih sudah berbelanja\n"
          ]
        }
      ]
    },
    {
      "cell_type": "code",
      "source": [
        "# praktikum 3\n",
        "username = input(\"masukkan username:\")\n",
        "password = input(\"masukkan password\")\n",
        "\n",
        "if username == \"admin\" and password == \"admin123\":\n",
        "  print(\"selamat datang admin\")\n",
        "else:\n",
        "  print(\"username atau password salah\")"
      ],
      "metadata": {
        "colab": {
          "base_uri": "https://localhost:8080/"
        },
        "id": "3QzFwXAyl6NB",
        "outputId": "c7251509-49d7-4de7-8aef-d9f8d67d80da"
      },
      "execution_count": 4,
      "outputs": [
        {
          "metadata": {
            "tags": null
          },
          "name": "stdout",
          "output_type": "stream",
          "text": [
            "selamat datang admin\n"
          ]
        }
      ]
    },
    {
      "cell_type": "code",
      "source": [
        "# praktikum 4\n",
        "# variabel untuk memeriksa apakah ada notifikasi baru\n",
        "\n",
        "ada_notifikasi_baru: bool = True\n",
        "\n",
        "if ada_notifikasi_baru:\n",
        "  print(\"anda memiliki notifikasi baru\")"
      ],
      "metadata": {
        "colab": {
          "base_uri": "https://localhost:8080/"
        },
        "id": "UmSij7DWnqMk",
        "outputId": "026062a6-e0bb-4adb-c6bd-5103a8de2cd1"
      },
      "execution_count": 7,
      "outputs": [
        {
          "output_type": "stream",
          "name": "stdout",
          "text": [
            "anda memiliki notifikasi baru\n"
          ]
        }
      ]
    },
    {
      "cell_type": "code",
      "source": [
        "# prraktikum 5\n",
        "# if-else\n",
        "# contoh penggunaan percabangan ganda\n",
        "\n",
        "umur = input(\"Berapa umur anda : \")\n",
        "if int(umur) >= 17:\n",
        "  print(\"Anda boleh membuat KTP\")\n",
        "else :\n",
        "  print(\"Anda belum boleh membuat KTP\")"
      ],
      "metadata": {
        "colab": {
          "base_uri": "https://localhost:8080/"
        },
        "id": "_t9cH7OnoQID",
        "outputId": "e3ee3380-bf48-498d-af5e-cd698ec9a109"
      },
      "execution_count": 11,
      "outputs": [
        {
          "output_type": "stream",
          "name": "stdout",
          "text": [
            "Berapa umur anda : 20\n",
            "Anda boleh membuat KTP\n"
          ]
        }
      ]
    },
    {
      "cell_type": "code",
      "source": [
        "# praktikum 6\n",
        "# asumsikan total belanja diatas 20 ribu\n",
        "\n",
        "total_belanja = 30000\n",
        "\n",
        "if int(total_belanja) > 20000:\n",
        "  diskon = int(total_belanja) * 0.1\n",
        "  total_bayar = int(total_belanja) - diskon\n",
        "  print(f\"total belanja sebelum diskon: Rp {total_belanja}\")\n",
        "  print(f\"potongan harga: Rp {diskon}\")\n",
        "  print(f\"total belanja setelah diskon: Rp {total_bayar}\")\n",
        "  print(f\"total yang harus dibayar: Rp {total_bayar}\")\n",
        "else:\n",
        "  print(f\"total bayar: Rp {total_belanja}\")"
      ],
      "metadata": {
        "colab": {
          "base_uri": "https://localhost:8080/"
        },
        "id": "EQiinB0ppHQC",
        "outputId": "b8760405-52f9-41a6-ab91-79dd08f86b40"
      },
      "execution_count": 17,
      "outputs": [
        {
          "output_type": "stream",
          "name": "stdout",
          "text": [
            "total belanja sebelum diskon: Rp 30000\n",
            "potongan harga: Rp 3000.0\n",
            "total belanja setelah diskon: Rp 27000.0\n",
            "total yang harus dibayar: Rp 27000.0\n"
          ]
        }
      ]
    },
    {
      "cell_type": "code",
      "source": [
        "# praktikum 7\n",
        "angka = int(input(\"masukkan bilangan =\"))\n",
        "if angka % 2 == 0:\n",
        "  print(\"angka genap\")\n",
        "else:\n",
        "  print(\"angka ganjil\")\n"
      ],
      "metadata": {
        "colab": {
          "base_uri": "https://localhost:8080/"
        },
        "id": "59mzt6cEqyYK",
        "outputId": "c81413af-4797-463f-8023-296a1580f080"
      },
      "execution_count": 20,
      "outputs": [
        {
          "output_type": "stream",
          "name": "stdout",
          "text": [
            "masukkan bilangan =24880\n",
            "angka genap\n"
          ]
        }
      ]
    },
    {
      "cell_type": "code",
      "source": [
        "# praktikum 8\n",
        "nilai = int(input(\"masukkan nilai =\"))\n",
        "if nilai >= 80:\n",
        "  print(\"Luar biasa! Nilai A\")\n",
        "elif nilai >= 70:\n",
        "  print(\"Bagus! Nilai B\")\n",
        "elif nilai >= 60:\n",
        "  print(\"Cukup! Nilai C\")\n",
        "else:\n",
        "  print(\"Nilai kurang, perlu belajar lebih giat.\")"
      ],
      "metadata": {
        "colab": {
          "base_uri": "https://localhost:8080/"
        },
        "id": "lRPfOW_Trmog",
        "outputId": "c8437581-baee-4b3e-bba4-7d899a8646d0"
      },
      "execution_count": 23,
      "outputs": [
        {
          "metadata": {
            "tags": null
          },
          "name": "stdout",
          "output_type": "stream",
          "text": [
            "Luar biasa! Nilai A\n"
          ]
        }
      ]
    },
    {
      "cell_type": "code",
      "source": [
        "# praktikum 9\n",
        "\n",
        "hari = \"Sabtu\"\n",
        "\n",
        "if hari == \"Sabtu\" or hari == \"Minggu\":\n",
        "  diskon = 0.2 # diskon = 20%\n",
        "  print(f\"Selamat! Anda mendapat diskon akhir pekan sebesar {diskon*100}%.\")\n",
        "elif hari == \"Jumat\":\n",
        "  diskon = 0.15 # diskon = 15%\n",
        "  print(f\"Diskon spesial jumat! Anda mendapat potongan {diskon*100}%.\")\n",
        "else:\n",
        "  diskon = 0.05 # Diskon 5%\n",
        "  print(f\"Anda mendapat diskon hari sebesar {diskon*100}%.\")"
      ],
      "metadata": {
        "colab": {
          "base_uri": "https://localhost:8080/"
        },
        "id": "T8Akvy6SruYR",
        "outputId": "fb52f831-8708-4bed-e864-40cea6bd1e26"
      },
      "execution_count": 42,
      "outputs": [
        {
          "output_type": "stream",
          "name": "stdout",
          "text": [
            "Selamat! Anda mendapat diskon akhir pekan sebesar 20.0%.\n"
          ]
        }
      ]
    },
    {
      "cell_type": "code",
      "source": [
        "# praktikum 10\n",
        "rupiah = int(input(\"masukkan jumlah uang (Rp):\"))\n",
        "print(\"1. Dollar (USD)\")\n",
        "print(\"2. Euro (EUR)\")\n",
        "print(\"3. Yen (JPY)\")\n",
        "pilih = int(input(\"Pilih Konversi (1/2/3):\"))\n",
        "\n",
        "if pilih == 1:\n",
        "    print(\"Dalam Dollar:\", rupiah / 15000)\n",
        "elif pilih == 2:\n",
        "    print(\"Dalam Euro:\", rupiah / 16000)\n",
        "elif pilih == 3:\n",
        "    print(\"Dalam Yen:\", rupiah / 120)\n",
        "else:\n",
        "    print(\"Pilihan tidak valid\")"
      ],
      "metadata": {
        "colab": {
          "base_uri": "https://localhost:8080/"
        },
        "id": "zCECjm95t8VV",
        "outputId": "837c8ffc-7564-45c3-a095-4e5787f3e2b4"
      },
      "execution_count": 41,
      "outputs": [
        {
          "output_type": "stream",
          "name": "stdout",
          "text": [
            "masukkan jumlah uang (Rp):15000\n",
            "1. Dollar (USD)\n",
            "2. Euro (EUR)\n",
            "3. Yen (JPY)\n",
            "Pilih Konversi (1/2/3):2\n",
            "Dalam Euro: 0.9375\n"
          ]
        }
      ]
    }
  ]
}