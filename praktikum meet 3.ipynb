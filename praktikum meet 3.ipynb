{
  "nbformat": 4,
  "nbformat_minor": 0,
  "metadata": {
    "colab": {
      "provenance": [],
      "authorship_tag": "ABX9TyN0qM/Bo179hmE/YpXCI00X",
      "include_colab_link": true
    },
    "kernelspec": {
      "name": "python3",
      "display_name": "Python 3"
    },
    "language_info": {
      "name": "python"
    }
  },
  "cells": [
    {
      "cell_type": "markdown",
      "metadata": {
        "id": "view-in-github",
        "colab_type": "text"
      },
      "source": [
        "<a href=\"https://colab.research.google.com/github/Yohannes-4232401024/Pemrograman-Dasar/blob/main/praktikum%20meet%203.ipynb\" target=\"_parent\"><img src=\"https://colab.research.google.com/assets/colab-badge.svg\" alt=\"Open In Colab\"/></a>"
      ]
    },
    {
      "cell_type": "code",
      "execution_count": null,
      "metadata": {
        "colab": {
          "base_uri": "https://localhost:8080/"
        },
        "id": "fwXzZKI3fCv1",
        "outputId": "37e9dde2-83a5-46a8-f4cc-7e9eb95c735b"
      },
      "outputs": [
        {
          "output_type": "stream",
          "name": "stdout",
          "text": [
            "Berapa total belanjaan Anda? 9\n",
            "siapa nama pelanggan ? : joo\n",
            "daftar transaksi\n",
            "total belanjaan = 9.0\n",
            "nama pelanggan = joo\n",
            "---TERIMAKASIH SUDAH BERBELANJA---\n",
            "---jangan lupa datang kembali---\n"
          ]
        }
      ],
      "source": [
        "# Fungsi untuk menerima input\n",
        "\n",
        "total = float(input(\"Berapa total belanjaan Anda? \"))\n",
        "nama = str(input(\"siapa nama pelanggan ? : \"))\n",
        "\n",
        "print(\"daftar transaksi\")\n",
        "print(\"total belanjaan =\", total)\n",
        "print(\"nama pelanggan =\", nama)\n",
        "print(\"---TERIMAKASIH SUDAH BERBELANJA---\")\n",
        "print(\"---jangan lupa datang kembali---\")\n",
        "\n"
      ]
    },
    {
      "cell_type": "code",
      "source": [
        "# Pesanan\n",
        "\n",
        "food = (\"Mie ayam bakso\")\n",
        "print(\"purba mau membeli\", food)\n",
        "print(\"purba sedang memesan\"+ food)\n",
        "print(\"purba selesai memesan %s\" % food)"
      ],
      "metadata": {
        "colab": {
          "base_uri": "https://localhost:8080/"
        },
        "id": "m8Y7VbbhjLtg",
        "outputId": "eb937325-ccd3-4ec6-d9f7-9592c6b11b89"
      },
      "execution_count": 4,
      "outputs": [
        {
          "output_type": "stream",
          "name": "stdout",
          "text": [
            "purba mau membeli Mie ayam bakso\n",
            "purba sedang memesanMie ayam bakso\n",
            "purba selesai memesan Mie ayam bakso\n"
          ]
        }
      ]
    },
    {
      "cell_type": "code",
      "source": [
        "# kalkulator sederhana\n",
        "a = 15\n",
        "b = 4\n",
        "print(\"penjumlahan =\", a + b)\n",
        "print(\"pengurangan =\", a - b)\n",
        "print(\"perkalian =\", a * b)\n",
        "print(\"pembagian =\", a / b)\n",
        "print(\"sisa bagi =\", a % b)\n",
        "print(\"pangkat =\", a ** b)"
      ],
      "metadata": {
        "colab": {
          "base_uri": "https://localhost:8080/"
        },
        "id": "VWSHTUwntQ0Y",
        "outputId": "8966b3d3-03c8-41c2-fa55-1cbd5e03f1ba"
      },
      "execution_count": null,
      "outputs": [
        {
          "output_type": "stream",
          "name": "stdout",
          "text": [
            "penjumlahan = 19\n",
            "pengurangan = 11\n",
            "perkalian = 60\n",
            "pembagian = 3.75\n",
            "sisa bagi = 3\n",
            "pangkat = 50625\n"
          ]
        }
      ]
    },
    {
      "cell_type": "code",
      "source": [
        "# Kalkulator Kasir\n",
        "\n",
        "print(\"===Belanjaan Anda===\")\n",
        "harga_makan = int(input(\"ketoprak pake telur = \"))\n",
        "harga_minuman = int(input(\"tuak ori = \"))\n",
        "total = harga_makan + harga_minuman\n",
        "print(\"total harga =\", total)\n"
      ],
      "metadata": {
        "colab": {
          "base_uri": "https://localhost:8080/"
        },
        "id": "GJo2EIzvwjt4",
        "outputId": "687e0a82-d763-4474-96da-fe3ff748562f"
      },
      "execution_count": null,
      "outputs": [
        {
          "output_type": "stream",
          "name": "stdout",
          "text": [
            "===Belanjaan Anda===\n",
            "ketoprak pake telur = 20000\n",
            "tuak ori = 15000\n",
            "total harga = 35000\n"
          ]
        }
      ]
    },
    {
      "cell_type": "code",
      "source": [
        "# Konversi total detik ke jam:menit:detik\n",
        "\n",
        "total_detik = int(input(\"masukan total detik = \"))\n",
        "\n",
        "jam = total_detik // 3600\n",
        "sisa_detik = total_detik % 3600\n",
        "menit = sisa_detik // 60\n",
        "detik = sisa_detik % 60\n",
        "print(total_detik, \"detik =\", jam, \"jam\", menit, \"menit\", detik, \"detik\")"
      ],
      "metadata": {
        "colab": {
          "base_uri": "https://localhost:8080/"
        },
        "id": "_VKv3IoIzkW5",
        "outputId": "d479dfc1-6daa-46e2-8bd6-2e01fbc78646"
      },
      "execution_count": null,
      "outputs": [
        {
          "output_type": "stream",
          "name": "stdout",
          "text": [
            "masukan total detik = 358200\n",
            "358200 detik = 99 jam 30 menit 0 detik\n"
          ]
        }
      ]
    },
    {
      "cell_type": "code",
      "source": [
        "# Nilai Akhir AAS Mahasiswa\n",
        "\n",
        "pemograman_dasar = int(input(\"nilai pemograman dasar = \"))\n",
        "kimia_dasar = int(input(\"nilai kimia dasar = \"))\n",
        "mekanika_fluida = int(input(\"nilai mekanika fluida = \"))\n",
        "perpindahan_panas = int(input(\"nilai perpindahan panas \"))\n",
        "pendidikan_kewarganegaraan = int(input(\"nilai pendidikan kewarganegraan = \"))\n",
        "\n",
        "nilai_akhir = (pemograman_dasar * 0.2) + (kimia_dasar * 0.2) + (mekanika_fluida * 0.2) + (perpindahan_panas * 0.2) + (pendidikan_kewarganegaraan * 0.2)\n",
        "print(\"nilai akhir = \", nilai_akhir)\n",
        "\n",
        "\n",
        "standar_kelulusan = 80\n",
        "apakah_lulus = nilai_akhir >= standar_kelulusan\n",
        "perlu_remedial = nilai_akhir < standar_kelulusan\n",
        "\n",
        "print(f\"nilai mahasiswa: {nilai_akhir}\")\n",
        "print(f\"standar kelulusan: {standar_kelulusan}\")\n",
        "print(f\"apakah mahasiswa lulus? {apakah_lulus}\")\n",
        "print(f\"apakah mahasiswa perlu remedial? {perlu_remedial}\")\n",
        "\n",
        "print(\"~~~ SELAMAT BELAJAR DI SEMESTER YANG BARU ~~~\")"
      ],
      "metadata": {
        "id": "KszxBqmC63N-",
        "colab": {
          "base_uri": "https://localhost:8080/"
        },
        "outputId": "55a39116-5873-4a44-a8d1-43f0b86fe426"
      },
      "execution_count": null,
      "outputs": [
        {
          "output_type": "stream",
          "name": "stdout",
          "text": [
            "nilai pemograman dasar = 90\n",
            "nilai kimia dasar = 85\n",
            "nilai mekanika fluida = 85\n",
            "nilai perpindahan panas 87\n",
            "nilai pendidikan kewarganegraan = 90\n",
            "nilai akhir =  87.4\n",
            "nilai mahasiswa: 87.4\n",
            "standar kelulusan: 80\n",
            "apakah mahasiswa lulus? True\n",
            "apakah mahasiswa perlu remedial? False\n",
            "~~~ SELAMAT BELAJAR DI SEMESTER YANG BARU ~~~\n"
          ]
        }
      ]
    },
    {
      "cell_type": "code",
      "source": [
        "belanja = 850000\n",
        "diskon_belanja = 0.05 # 5%\n",
        "\n",
        "diskon = diskon_belanja * belanja\n",
        "\n",
        "total_harga = belanja - diskon\n",
        "\n",
        "print(\"belanja =\", belanja)\n",
        "print(\"diskon =\", diskon)\n",
        "print(\"total harga =\", total_harga)"
      ],
      "metadata": {
        "id": "7T8lQLGGWz6s",
        "colab": {
          "base_uri": "https://localhost:8080/"
        },
        "outputId": "23c36fc2-a3c2-4150-bfad-099a53b8a14f"
      },
      "execution_count": null,
      "outputs": [
        {
          "output_type": "stream",
          "name": "stdout",
          "text": [
            "belanja = 850000\n",
            "diskon = 42500.0\n",
            "total harga = 807500.0\n"
          ]
        }
      ]
    },
    {
      "cell_type": "code",
      "metadata": {
        "colab": {
          "base_uri": "https://localhost:8080/"
        },
        "id": "1b966c9c",
        "outputId": "f239a944-6380-4e28-cd17-39ce1d185543"
      },
      "source": [
        "# diskon belanja\n",
        "\n",
        "belanja = 1000000\n",
        "diskon_belanja = 0.35  # 35%\n",
        "\n",
        "diskon = diskon_belanja * belanja\n",
        "\n",
        "total_harga = belanja - diskon\n",
        "\n",
        "print(\"belanja =\", belanja)\n",
        "print(\"diskon =\", diskon)\n",
        "print(\"total harga =\", total_harga)"
      ],
      "execution_count": null,
      "outputs": [
        {
          "output_type": "stream",
          "name": "stdout",
          "text": [
            "belanja = 1000000\n",
            "diskon = 350000.0\n",
            "total harga = 650000.0\n"
          ]
        }
      ]
    }
  ]
}