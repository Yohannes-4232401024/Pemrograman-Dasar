{
  "nbformat": 4,
  "nbformat_minor": 0,
  "metadata": {
    "colab": {
      "provenance": [],
      "authorship_tag": "ABX9TyMm7mgrRewMKXlVddK9Zi3T",
      "include_colab_link": true
    },
    "kernelspec": {
      "name": "python3",
      "display_name": "Python 3"
    },
    "language_info": {
      "name": "python"
    }
  },
  "cells": [
    {
      "cell_type": "markdown",
      "metadata": {
        "id": "view-in-github",
        "colab_type": "text"
      },
      "source": [
        "<a href=\"https://colab.research.google.com/github/Yohannes-4232401024/Pemrograman-Dasar/blob/main/Untitled.ipynb\" target=\"_parent\"><img src=\"https://colab.research.google.com/assets/colab-badge.svg\" alt=\"Open In Colab\"/></a>"
      ]
    },
    {
      "cell_type": "code",
      "execution_count": 7,
      "metadata": {
        "colab": {
          "base_uri": "https://localhost:8080/"
        },
        "id": "rr7hW6rhjQNu",
        "outputId": "bce6a643-891e-4643-f74a-da366e46f424"
      },
      "outputs": [
        {
          "output_type": "stream",
          "name": "stdout",
          "text": [
            "Yohannes Paruntungan Purba\n",
            "4232401024\n",
            "20\n",
            "Batam\n",
            "21 April 2005\n",
            "Laki-Laki\n",
            "Kristen Protestan\n",
            "O\n",
            "Perumahan Bukit Indah Blok f no.7\n",
            "jojoaja2105@gmail.com\n",
            "089531275633\n",
            "Badminton\n",
            "Teknik Elektro\n",
            "Teknologi Rekayasa Pembangkit Energi\n",
            "3\n",
            "Pemrograman Dasar\n",
            "False\n"
          ]
        }
      ],
      "source": [
        "# biodata saya\n",
        "\n",
        "nama = \"Yohannes Paruntungan Purba\"\n",
        "nim = \"4232401024\"\n",
        "umur = 20\n",
        "tempat_lahir = \"Batam\"\n",
        "tanggal_lahir = \"21 April 2005\"\n",
        "jenis_kelamin = \"Laki-Laki\"\n",
        "agama = \"Kristen Protestan\"\n",
        "golongan_darah = \"O\"\n",
        "alamat = \"Perumahan Bukit Indah Blok f no.7\"\n",
        "email = \"jojoaja2105@gmail.com\"\n",
        "no_telepon = \"089531275633\"\n",
        "hobi = \"Badminton\"\n",
        "jurusan = \"Teknik Elektro\"\n",
        "program_studi = \"Teknologi Rekayasa Pembangkit Energi\"\n",
        "semester = 3\n",
        "matakuliah = 'Pemrograman Dasar'\n",
        "status_lulus = False\n",
        "\n",
        "\n",
        "print (nama)\n",
        "print (nim)\n",
        "print (umur)\n",
        "print (tempat_lahir)\n",
        "print (tanggal_lahir)\n",
        "print (jenis_kelamin)\n",
        "print (agama)\n",
        "print (golongan_darah)\n",
        "print (alamat)\n",
        "print (email)\n",
        "print (no_telepon)\n",
        "print (hobi)\n",
        "print (jurusan)\n",
        "print (program_studi)\n",
        "print (semester)\n",
        "print (matakuliah)\n",
        "print (status_lulus)"
      ]
    }
  ]
}