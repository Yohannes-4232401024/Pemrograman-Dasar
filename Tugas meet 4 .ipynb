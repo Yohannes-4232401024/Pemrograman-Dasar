{
  "nbformat": 4,
  "nbformat_minor": 0,
  "metadata": {
    "colab": {
      "provenance": [],
      "authorship_tag": "ABX9TyMEeCWVV5i37BOnMVaDStxc",
      "include_colab_link": true
    },
    "kernelspec": {
      "name": "python3",
      "display_name": "Python 3"
    },
    "language_info": {
      "name": "python"
    }
  },
  "cells": [
    {
      "cell_type": "markdown",
      "metadata": {
        "id": "view-in-github",
        "colab_type": "text"
      },
      "source": [
        "<a href=\"https://colab.research.google.com/github/Yohannes-4232401024/Pemrograman-Dasar/blob/main/Tugas%20meet%204%20.ipynb\" target=\"_parent\"><img src=\"https://colab.research.google.com/assets/colab-badge.svg\" alt=\"Open In Colab\"/></a>"
      ]
    },
    {
      "cell_type": "code",
      "execution_count": 8,
      "metadata": {
        "colab": {
          "base_uri": "https://localhost:8080/"
        },
        "id": "eSBtHs6CFheB",
        "outputId": "1f1e2b2d-e0f0-4a8f-ae45-3d0f2da91070"
      },
      "outputs": [
        {
          "output_type": "stream",
          "name": "stdout",
          "text": [
            "******************************\n",
            "SELAMAT DATANG DI KAFE GEMINI\n",
            "Menu Makanan & Minuman:\n",
            "1. Kopi Hitam     - Rp 12.000\n",
            "2. Teh Manis      - Rp 8.000\n",
            "3. Roti Bakar     - Rp 15.000\n",
            "4. Mie Instan     - Rp 10.000\n",
            "******************************\n",
            "Silakan masukkan nomor pilihan Anda (1-4): 3\n",
            "Anda memesan: Roti Bakar dengan harga Rp 15000\n",
            "******************************\n",
            "Selamat! Anda mendapatkan Diskon 70%\n",
            "Nilai Diskon: Rp 10500\n",
            "******************************\n"
          ]
        }
      ],
      "source": [
        "# tugas no.1\n",
        "\n",
        "print(\"*\" * 30)\n",
        "print(\"SELAMAT DATANG DI KAFE GEMINI\")\n",
        "print(\"Menu Makanan & Minuman:\")\n",
        "print(\"1. Kopi Hitam     - Rp 12.000\")\n",
        "print(\"2. Teh Manis      - Rp 8.000\")\n",
        "print(\"3. Roti Bakar     - Rp 15.000\")\n",
        "print(\"4. Mie Instan     - Rp 10.000\")\n",
        "print(\"*\" * 30)\n",
        "\n",
        "pilihan_str = input(\"Silakan masukkan nomor pilihan Anda (1-4): \")\n",
        "pilihan: int = int(pilihan_str)\n",
        "nama_pesanan: str = \"\"\n",
        "harga: int = 0\n",
        "diskon_persen: int = 0  # Inisialisasi variabel diskon dalam persen\n",
        "total_diskon: float = 0.0 # Inisialisasi variabel nilai diskon\n",
        "harga_setelah_diskon: float = 0.0 # Inisialisasi variabel harga akhir\n",
        "\n",
        "# Bagian pemilihan menu\n",
        "if pilihan == 1:\n",
        "    nama_pesanan = \"Kopi Hitam\"\n",
        "    harga = 12000\n",
        "    print(f\"Anda memesan: {nama_pesanan} dengan harga Rp {harga}\")\n",
        "elif pilihan == 2:\n",
        "    nama_pesanan = \"Teh Manis\"\n",
        "    harga = 8000\n",
        "    print(f\"Anda memesan: {nama_pesanan} dengan harga Rp {harga}\")\n",
        "elif pilihan == 3:\n",
        "    nama_pesanan = \"Roti Bakar\"\n",
        "    harga = 15000\n",
        "    print(f\"Anda memesan: {nama_pesanan} dengan harga Rp {harga}\")\n",
        "elif pilihan == 4:\n",
        "    nama_pesanan = \"Mie Instan\"\n",
        "    harga = 10000\n",
        "    print(f\"Anda memesan: {nama_pesanan} dengan harga Rp {harga}\")\n",
        "else:\n",
        "    print(\"Maaf, pilihan menu tidak valid. Silakan jalankan ulang program.\")\n",
        "\n",
        "# --- Bagian perhitungan Diskon ---\n",
        "if harga > 0:\n",
        "    # Kategori Diskon 70%\n",
        "    if harga >= 15000:\n",
        "        diskon_persen = 70\n",
        "    # Kategori Diskon 50%\n",
        "    elif harga >= 10000:\n",
        "        diskon_persen = 50\n",
        "    # Kategori Diskon 30%\n",
        "    elif harga >= 8000:\n",
        "        diskon_persen = 30\n",
        "    # Tidak ada diskon (jika kurang dari 8000, yang dalam kasus ini hanya Teh Manis yang harganya 8000\n",
        "    # jadi semua menu di atas akan mendapat diskon minimal 30%)\n",
        "\n",
        "    # Hitung nilai diskon dan harga setelah diskon\n",
        "    total_diskon = harga * (diskon_persen / 100)\n",
        "    harga_setelah_diskon = harga - total_diskon\n",
        "\n",
        "    # Tampilkan informasi diskon\n",
        "    if diskon_persen > 0:\n",
        "        print(\"*\" * 30)\n",
        "        print(f\"Selamat! Anda mendapatkan Diskon {diskon_persen}%\")\n",
        "        print(f\"Nilai Diskon: Rp {int(total_diskon)}\")\n",
        "\n",
        "    print(\"*\" * 30)"
      ]
    }
  ]
}