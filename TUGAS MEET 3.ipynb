{
  "nbformat": 4,
  "nbformat_minor": 0,
  "metadata": {
    "colab": {
      "provenance": [],
      "authorship_tag": "ABX9TyO2T694YCRtbS2tOYCPkDBD",
      "include_colab_link": true
    },
    "kernelspec": {
      "name": "python3",
      "display_name": "Python 3"
    },
    "language_info": {
      "name": "python"
    }
  },
  "cells": [
    {
      "cell_type": "markdown",
      "metadata": {
        "id": "view-in-github",
        "colab_type": "text"
      },
      "source": [
        "<a href=\"https://colab.research.google.com/github/Yohannes-4232401024/Pemrograman-Dasar/blob/main/TUGAS%20MEET%203.ipynb\" target=\"_parent\"><img src=\"https://colab.research.google.com/assets/colab-badge.svg\" alt=\"Open In Colab\"/></a>"
      ]
    },
    {
      "cell_type": "code",
      "execution_count": 6,
      "metadata": {
        "colab": {
          "base_uri": "https://localhost:8080/"
        },
        "id": "g0uja4mZYDXY",
        "outputId": "a9190aad-3855-4c3e-c0d1-86d048515498"
      },
      "outputs": [
        {
          "output_type": "stream",
          "name": "stdout",
          "text": [
            "Nama Pembeli                      : Yohannes \n",
            "Apakah Anda Member ? (ya/tidak) :YA\n",
            "Masukkan total belanja (Rp) : 180000\n",
            "\n",
            "~~~STRUK BELANJA~~~\n",
            "Nama Pelanggan       : Yohannes \n",
            "Total Belanja        : Rp 180000\n",
            "Diskon (15%)         : Rp 27000\n",
            "Harga Setelah Diskon : Rp 153000\n",
            "PPN (11%)            : Rp 16830\n",
            "Total Bayar          : Rp 169830\n"
          ]
        }
      ],
      "source": [
        "# Tugas 1\n",
        "\n",
        "nama = input(\"Nama Pembeli                      : \")\n",
        "member = input(\"Apakah Anda Member ? (ya/tidak) :\")\n",
        "subtotal = int(input(\"Masukkan total belanja (Rp) : \"))\n",
        "\n",
        "# 2. Evaluasi syarat diskon\n",
        "syarat_diskon = (member.lower() == \"ya\") and (subtotal > 100000)\n",
        "\n",
        "# 3. Hitung jumlah diskon\n",
        "diskon = syarat_diskon * (0.15 * subtotal)\n",
        "\n",
        "# 4. Hitung harga setelah diskon\n",
        "harga_setelah_diskon  = subtotal - diskon\n",
        "\n",
        "# 5. Hitung PPN (11%)\n",
        "ppn = 0.11 * harga_setelah_diskon\n",
        "\n",
        "# 6. Hitung total bayar\n",
        "total_bayar = harga_setelah_diskon + ppn\n",
        "\n",
        "# 7. Tampilkan struk belanja\n",
        "print(\"\\n~~~STRUK BELANJA~~~\")\n",
        "print(\"Nama Pelanggan       :\", nama)\n",
        "print(\"Total Belanja        : Rp\", subtotal)\n",
        "print(\"Diskon (15%)         : Rp\", int(diskon))\n",
        "print(\"Harga Setelah Diskon : Rp\", int(harga_setelah_diskon))\n",
        "print(\"PPN (11%)            : Rp\", int(ppn))\n",
        "print(\"Total Bayar          : Rp\", int(total_bayar))"
      ]
    }
  ]
}