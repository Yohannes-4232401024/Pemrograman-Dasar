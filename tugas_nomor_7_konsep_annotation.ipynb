{
  "nbformat": 4,
  "nbformat_minor": 0,
  "metadata": {
    "colab": {
      "provenance": [],
      "authorship_tag": "ABX9TyP5EvpAW8lfCIelzXQ0vamG",
      "include_colab_link": true
    },
    "kernelspec": {
      "name": "python3",
      "display_name": "Python 3"
    },
    "language_info": {
      "name": "python"
    }
  },
  "cells": [
    {
      "cell_type": "markdown",
      "metadata": {
        "id": "view-in-github",
        "colab_type": "text"
      },
      "source": [
        "<a href=\"https://colab.research.google.com/github/Yohannes-4232401024/Pemrograman-Dasar/blob/main/tugas_nomor_7_konsep_annotation.ipynb\" target=\"_parent\"><img src=\"https://colab.research.google.com/assets/colab-badge.svg\" alt=\"Open In Colab\"/></a>"
      ]
    },
    {
      "cell_type": "code",
      "execution_count": null,
      "metadata": {
        "id": "_zSZgEKHwucT",
        "outputId": "47819e4c-c9f2-423c-b560-c85ee2f44838",
        "colab": {
          "base_uri": "https://localhost:8080/"
        }
      },
      "outputs": [
        {
          "output_type": "stream",
          "name": "stdout",
          "text": [
            "Yohannes Paruntungan Purba\n",
            "4232401024\n",
            "20\n",
            "Badminton\n",
            "Teknik Elektro\n",
            "False\n"
          ]
        }
      ],
      "source": [
        "# biodata saya\n",
        "nama: str = \"Yohannes Paruntungan Purba\"\n",
        "nim: str = \"4232401024\"\n",
        "umur: int = 20\n",
        "hobi: str = \"Badminton\"\n",
        "jurusan: str = \"Teknik Elektro\"\n",
        "status_lulus: bool = False\n",
        "\n",
        "print (nama)\n",
        "print (nim)\n",
        "print (umur)\n",
        "print (hobi)\n",
        "print (jurusan)\n",
        "print (status_lulus)"
      ]
    }
  ]
}