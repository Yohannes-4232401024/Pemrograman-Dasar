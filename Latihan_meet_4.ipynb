{
  "nbformat": 4,
  "nbformat_minor": 0,
  "metadata": {
    "colab": {
      "provenance": [],
      "authorship_tag": "ABX9TyOCdpfPrFL9acXg+7G50a25",
      "include_colab_link": true
    },
    "kernelspec": {
      "name": "python3",
      "display_name": "Python 3"
    },
    "language_info": {
      "name": "python"
    }
  },
  "cells": [
    {
      "cell_type": "markdown",
      "metadata": {
        "id": "view-in-github",
        "colab_type": "text"
      },
      "source": [
        "<a href=\"https://colab.research.google.com/github/Yohannes-4232401024/Pemrograman-Dasar/blob/main/Latihan_meet_4.ipynb\" target=\"_parent\"><img src=\"https://colab.research.google.com/assets/colab-badge.svg\" alt=\"Open In Colab\"/></a>"
      ]
    },
    {
      "cell_type": "code",
      "source": [
        "# Latihan no.1\n",
        "# program cek kelipatan 5\n",
        "angka = int(input(\"Masukkan angka: \"))\n",
        "if angka % 5 == 0:\n",
        "    print(f\"{angka} adalah kelipatan 5\")\n",
        "else:\n",
        "    print(f\"{angka} bukan kelipatan 5\")\n"
      ],
      "metadata": {
        "colab": {
          "base_uri": "https://localhost:8080/"
        },
        "id": "KoS-YzHxm9ik",
        "outputId": "d9f5fbf5-0741-4ad7-91df-8d24b9e8b7bc"
      },
      "execution_count": 1,
      "outputs": [
        {
          "output_type": "stream",
          "name": "stdout",
          "text": [
            "Masukkan angka: 15\n",
            "15 adalah kelipatan 5\n"
          ]
        }
      ]
    },
    {
      "cell_type": "code",
      "execution_count": 3,
      "metadata": {
        "colab": {
          "base_uri": "https://localhost:8080/"
        },
        "id": "9VhfuIGMyx1x",
        "outputId": "ff293056-f550-46bb-b9b7-6306bc8f7596"
      },
      "outputs": [
        {
          "output_type": "stream",
          "name": "stdout",
          "text": [
            "Masukkan tahun: 2024\n",
            "tahun kabisat\n"
          ]
        }
      ],
      "source": [
        "# latihan no.2\n",
        "# program menentukan tahun kabisat\n",
        "tahun = int(input(\"Masukkan tahun: \"))\n",
        "if tahun % 400 == 0:\n",
        "    print(\"tahun kabisat\")\n",
        "elif tahun % 100 == 0:\n",
        "    print(\"bukan tahun kabisat\")\n",
        "elif tahun % 4 == 0:\n",
        "    print(\"tahun kabisat\")\n",
        "else:\n",
        "    print(\"bukan tahun kabisat\")\n"
      ]
    },
    {
      "cell_type": "code",
      "metadata": {
        "colab": {
          "base_uri": "https://localhost:8080/"
        },
        "id": "a97a21b0",
        "outputId": "37f45b06-830b-4d06-8fe5-7379a1e4924f"
      },
      "source": [
        "# latihan no.3\n",
        "# program soal matematika sederhana\n",
        "\n",
        "angka1 = random.randint(1, 10)\n",
        "angka2 = random.randint(1, 10)\n",
        "jawaban_benar = angka1 * angka2\n",
        "\n",
        "jawaban_anda = int(input(f\"Berapa hasil dari {angka1} * {angka2}? \"))\n",
        "\n",
        "if jawaban_anda == jawaban_benar:\n",
        "    print(\"Jawaban Anda benar!\")\n",
        "else:\n",
        "    print(f\"Jawaban Anda salah. Jawaban yang benar adalah {jawaban_benar}\")"
      ],
      "execution_count": 14,
      "outputs": [
        {
          "output_type": "stream",
          "name": "stdout",
          "text": [
            "Berapa hasil dari 5 * 5? 54\n",
            "Jawaban Anda salah. Jawaban yang benar adalah 25\n"
          ]
        }
      ]
    },
    {
      "cell_type": "code",
      "source": [
        "# latihan 4\n",
        "# program input bulan\n",
        "\n",
        "bulan = int(input(\"Masukkan nomor bulan (1-12): \"))\n",
        "\n",
        "if bulan == 1:\n",
        "    nama_bulan = \"Januari\"\n",
        "elif bulan == 2:\n",
        "    nama_bulan = \"Februari\"\n",
        "elif bulan == 3:\n",
        "    nama_bulan = \"Maret\"\n",
        "elif bulan == 4:\n",
        "    nama_bulan = \"April\"\n",
        "elif bulan == 5:\n",
        "    nama_bulan = \"Mei\"\n",
        "elif bulan == 6:\n",
        "    nama_bulan = \"Juni\"\n",
        "elif bulan == 7:\n",
        "    nama_bulan = \"Juli\"\n",
        "elif bulan == 8:\n",
        "    nama_bulan = \"Agustus\"\n",
        "elif bulan == 9:\n",
        "    nama_bulan = \"September\"\n",
        "elif bulan == 10:\n",
        "    nama_bulan = \"Oktober\"\n",
        "elif bulan == 11:\n",
        "    nama_bulan = \"November\"\n",
        "elif bulan == 12:\n",
        "    nama_bulan = \"Desember\"\n",
        "else:\n",
        "    nama_bulan = \"Nomor bulan tidak valid\"\n",
        "\n",
        "print(f\"Bulan ke-{bulan} adalah {nama_bulan}\")"
      ],
      "metadata": {
        "colab": {
          "base_uri": "https://localhost:8080/"
        },
        "id": "nBsS8aE29Fuq",
        "outputId": "f23ddec0-7419-4fb3-b54d-bd0e035b5055"
      },
      "execution_count": 15,
      "outputs": [
        {
          "output_type": "stream",
          "name": "stdout",
          "text": [
            "Masukkan nomor bulan (1-12): 4\n",
            "Bulan ke-4 adalah April\n"
          ]
        }
      ]
    },
    {
      "cell_type": "code",
      "source": [
        "# latihan 5\n",
        "# program salam berdasarkan jam\n",
        "\n",
        "jam = int(input(\"Masukkan jam (0-23, angka bulat saja): \"))\n",
        "\n",
        "if jam < 0 or jam > 23:\n",
        "    print(\"Jam tidak valid\")\n",
        "elif jam < 12:\n",
        "    print(\"Selamat pagi!\")\n",
        "elif 12 <= jam < 18:\n",
        "    print(\"Selamat sore!\")\n",
        "else:\n",
        "    print(\"Selamat malam!\")"
      ],
      "metadata": {
        "colab": {
          "base_uri": "https://localhost:8080/"
        },
        "id": "WDBDgIHt-5o-",
        "outputId": "817cc14f-6c4d-486d-f792-e18deefc16dd"
      },
      "execution_count": 22,
      "outputs": [
        {
          "output_type": "stream",
          "name": "stdout",
          "text": [
            "Masukkan jam (0-23, angka bulat saja): 20\n",
            "Selamat malam!\n"
          ]
        }
      ]
    }
  ]
}