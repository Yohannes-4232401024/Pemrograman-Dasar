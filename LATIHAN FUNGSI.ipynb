{
  "nbformat": 4,
  "nbformat_minor": 0,
  "metadata": {
    "colab": {
      "provenance": [],
      "authorship_tag": "ABX9TyNR/havAc0P2mdKSQLdkYNH",
      "include_colab_link": true
    },
    "kernelspec": {
      "name": "python3",
      "display_name": "Python 3"
    },
    "language_info": {
      "name": "python"
    }
  },
  "cells": [
    {
      "cell_type": "markdown",
      "metadata": {
        "id": "view-in-github",
        "colab_type": "text"
      },
      "source": [
        "<a href=\"https://colab.research.google.com/github/Yohannes-4232401024/Pemrograman-Dasar/blob/main/LATIHAN%20FUNGSI.ipynb\" target=\"_parent\"><img src=\"https://colab.research.google.com/assets/colab-badge.svg\" alt=\"Open In Colab\"/></a>"
      ]
    },
    {
      "cell_type": "code",
      "execution_count": 2,
      "metadata": {
        "colab": {
          "base_uri": "https://localhost:8080/"
        },
        "id": "inGEXnunAe-x",
        "outputId": "5b8eca33-44aa-45e6-bdff-608aaf742c96"
      },
      "outputs": [
        {
          "output_type": "stream",
          "name": "stdout",
          "text": [
            "\n",
            "=========================\n",
            "      BIODATA LENGKAP      \n",
            "=========================\n",
            "Nama Lengkap  : Yohannes Paruntungan Purba\n",
            "NIM           : 4232401024\n",
            "Jurusan       : Teknik Elektro\n",
            "Prodi         : Rekayasa Pembangkit Energi\n",
            "Universitas   : Politeknik Negeri Batam\n",
            "=========================\n"
          ]
        }
      ],
      "source": [
        "# Soal 1: Fungsi Sederhana Tanpa Parameter (Inisialisasi)\n",
        "\n",
        "def Biodata():\n",
        "    \"\"\"Menampilkan biodata lengkap (Nama, NIM, Jurusan, dll.).\"\"\"\n",
        "\n",
        "    NAMA_LENGKAP = \"Yohannes Paruntungan Purba\"\n",
        "    NIM_ANDA     = \"4232401024\"\n",
        "    JURUSAN      = \"Teknik Elektro\"\n",
        "    PRODI        = \"Rekayasa Pembangkit Energi\"\n",
        "    UNIVERSITAS  = \"Politeknik Negeri Batam\"\n",
        "\n",
        "    print(\"\\n=========================\")\n",
        "    print(\"      BIODATA LENGKAP      \")\n",
        "    print(\"=========================\")\n",
        "    print(f\"Nama Lengkap  : {NAMA_LENGKAP}\")\n",
        "    print(f\"NIM           : {NIM_ANDA}\")\n",
        "    print(f\"Jurusan       : {JURUSAN}\")\n",
        "    print(f\"Prodi         : {PRODI}\")\n",
        "    print(f\"Universitas   : {UNIVERSITAS}\")\n",
        "    print(\"=========================\")\n",
        "\n",
        "# Pemanggilan:\n",
        "Biodata()"
      ]
    },
    {
      "cell_type": "code",
      "source": [
        "# Soal 2: Fungsi dengan Parameter Primitif (Matematika)\n",
        "\n",
        "def hitung_volume_balok(panjang, lebar, tinggi):\n",
        "    \"\"\"Menghitung volume balok (V = p * l * t).\"\"\"\n",
        "    return panjang * lebar * tinggi\n",
        "\n",
        "# Variabel input contoh:\n",
        "p = 20\n",
        "l = 7\n",
        "t = 5\n",
        "hasil_balok = hitung_volume_balok(p, l, t)\n",
        "\n",
        "# Mencetak hasil dengan format terstruktur\n",
        "print(\"\\n=================================\")\n",
        "print(\"HASIL MODIFIKASI: VOLUME BALOK\")\n",
        "print(\"=================================\")\n",
        "print(\"DIKETAHUI:\")\n",
        "print(f\"  Panjang (p) = {p}\")\n",
        "print(f\"  Lebar (l)   = {l}\")\n",
        "print(f\"  Tinggi (t)  = {t}\")\n",
        "print(\"---------------------------------\")\n",
        "print(\"DITANYA:\")\n",
        "print(\"  Volume Balok (V) = ?\")\n",
        "print(\"---------------------------------\")\n",
        "print(\"DIJAWAB:\")\n",
        "print(f\"  Rumus: V = p × l × t\")\n",
        "print(f\"  Perhitungan: V = {p} × {l} × {t} = {hasil_balok}\")\n",
        "print(\"---------------------------------\")\n",
        "print(f\"HASIL AKHIR: Volume balok adalah {hasil_balok}\")\n",
        "print(\"=================================\")\n"
      ],
      "metadata": {
        "colab": {
          "base_uri": "https://localhost:8080/"
        },
        "id": "Hik-ilzzIJbN",
        "outputId": "cb01327a-3a24-46b2-802d-3e761a3c29d7"
      },
      "execution_count": 3,
      "outputs": [
        {
          "output_type": "stream",
          "name": "stdout",
          "text": [
            "\n",
            "=================================\n",
            "HASIL MODIFIKASI: VOLUME BALOK\n",
            "=================================\n",
            "DIKETAHUI:\n",
            "  Panjang (p) = 20\n",
            "  Lebar (l)   = 7\n",
            "  Tinggi (t)  = 5\n",
            "---------------------------------\n",
            "DITANYA:\n",
            "  Volume Balok (V) = ?\n",
            "---------------------------------\n",
            "DIJAWAB:\n",
            "  Rumus: V = p × l × t\n",
            "  Perhitungan: V = 20 × 7 × 5 = 700\n",
            "---------------------------------\n",
            "HASIL AKHIR: Volume balok adalah 700\n",
            "=================================\n"
          ]
        }
      ]
    },
    {
      "cell_type": "code",
      "source": [
        "# Soal 3: Fungsi dengan Parameter Non-Primitif (list) dan Perulangan (for)\n",
        "\n",
        "def hitung_rata_rata_dengan_validasi(data_nilai):\n",
        "    \"\"\"Menghitung rata-rata dari list angka, mengabaikan nilai < 0 atau > 100.\"\"\"\n",
        "    total = 0\n",
        "    jumlah_valid = 0\n",
        "    PENALTI = 5 # Jika ingin memberikan penalti (optional)\n",
        "\n",
        "    print(\"--- Proses Validasi Nilai ---\")\n",
        "\n",
        "    # Perulangan untuk menjumlahkan nilai\n",
        "    for nilai in data_nilai:\n",
        "        if 0 <= nilai <= 100:\n",
        "            # Nilai valid: ditambahkan ke total dan jumlah valid\n",
        "            total += nilai\n",
        "            jumlah_valid += 1\n",
        "            print(f\"✅ Nilai {nilai} OK.\")\n",
        "        else:\n",
        "            # Nilai tidak valid: Diabaikan atau diberi penalti\n",
        "\n",
        "            # --- Pilihan 1: Mengabaikan nilai tidak valid ---\n",
        "            # continue\n",
        "\n",
        "            # --- Pilihan 2: Memberikan Penalti ---\n",
        "            if nilai < 0 or nilai > 100:\n",
        "                 total += PENALTI\n",
        "                 jumlah_valid += 1\n",
        "                 print(f\"❌ Nilai {nilai} tidak valid. Diberi penalti {PENALTI} poin.\")\n",
        "\n",
        "    print(\"-----------------------------\")\n",
        "\n",
        "    # Pembagian untuk rata-rata\n",
        "    if jumlah_valid > 0:\n",
        "        return total / jumlah_valid\n",
        "    return 0\n",
        "\n",
        "# Pemanggilan Modifikasi (dengan nilai outlier untuk testing):\n",
        "nilai_praktikan_outlier = [80, 110, 70, -10, 95]\n",
        "rata_rata_modifikasi = hitung_rata_rata_dengan_validasi(nilai_praktikan_outlier)\n",
        "\n",
        "print(f\"\\nNilai rata-rata kelas (setelah validasi/penalti) adalah: {rata_rata_modifikasi:.2f}\")"
      ],
      "metadata": {
        "colab": {
          "base_uri": "https://localhost:8080/"
        },
        "id": "KL3rMNNuI3hG",
        "outputId": "ae1a76cb-2f35-41f7-e16e-3d548d4a1b8c"
      },
      "execution_count": 6,
      "outputs": [
        {
          "output_type": "stream",
          "name": "stdout",
          "text": [
            "--- Proses Validasi Nilai ---\n",
            "✅ Nilai 80 OK.\n",
            "❌ Nilai 110 tidak valid. Diberi penalti 5 poin.\n",
            "✅ Nilai 70 OK.\n",
            "❌ Nilai -10 tidak valid. Diberi penalti 5 poin.\n",
            "✅ Nilai 95 OK.\n",
            "-----------------------------\n",
            "\n",
            "Nilai rata-rata kelas (setelah validasi/penalti) adalah: 51.00\n"
          ]
        }
      ]
    },
    {
      "cell_type": "code",
      "source": [
        "# Soal 4: Fungsi dengan Percabangan (if, elif, else)\n",
        "\n",
        "def tentukan_predikat_valid(skor):\n",
        "    \"\"\"Menentukan predikat, hanya menerima input numerik (int/float).\"\"\"\n",
        "\n",
        "    # MODIFIKASI: Pengecekan Tipe Data\n",
        "    if not isinstance(skor, (int, float)):\n",
        "        return \"Error: Input harus berupa angka (numerik).\"\n",
        "\n",
        "    # Kriteria Predikat\n",
        "    if skor >= 85:\n",
        "        return \"A\"\n",
        "    elif skor >= 70:\n",
        "        return \"B\"\n",
        "    elif skor >= 60:\n",
        "        return \"C\"\n",
        "    elif skor >= 50:\n",
        "        return \"D\"\n",
        "    else:\n",
        "        return \"E\"\n",
        "\n",
        "# Pemanggilan:\n",
        "print(\"\\n--- Hasil Modifikasi (Pengecekan Tipe Data) ---\")\n",
        "print(f\"Skor 88 (numerik) mendapat predikat: {tentukan_predikat_valid(88)}\")\n",
        "print(f\"Input 'Tujuh Lima' (non-numerik): {tentukan_predikat_valid('Tujuh Lima')}\")\n",
        "print(f\"Skor 62.5 (float) mendapat predikat: {tentukan_predikat_valid(62.5)}\")"
      ],
      "metadata": {
        "colab": {
          "base_uri": "https://localhost:8080/"
        },
        "id": "h-1DHloak0kn",
        "outputId": "158d9d94-e07c-4c1c-996d-618d971ee6a3"
      },
      "execution_count": 5,
      "outputs": [
        {
          "output_type": "stream",
          "name": "stdout",
          "text": [
            "\n",
            "--- Hasil Modifikasi (Pengecekan Tipe Data) ---\n",
            "Skor 88 (numerik) mendapat predikat: A\n",
            "Input 'Tujuh Lima' (non-numerik): Error: Input harus berupa angka (numerik).\n",
            "Skor 62.5 (float) mendapat predikat: C\n"
          ]
        }
      ]
    },
    {
      "cell_type": "code",
      "source": [
        "# Soal 5: Fungsi dengan Implementasi Perulangan while\n",
        "\n",
        "def hitung_faktorial_valid(n):\n",
        "    \"\"\"Menghitung faktorial dari bilangan positif n, dengan validasi.\"\"\"\n",
        "\n",
        "    # MODIFIKASI: Penanganan Kasus Khusus\n",
        "    if n < 0:\n",
        "        return \"Error: Faktorial hanya terdefinisi untuk bilangan non-negatif.\"\n",
        "\n",
        "    if n == 0:\n",
        "        return 1\n",
        "\n",
        "    # Implementasi Perulangan While\n",
        "    hasil = 1\n",
        "    # Kita bisa menggunakan copy dari n jika tidak ingin mengubah n aslinya,\n",
        "    # tetapi dalam konteks ini, memodifikasi n adalah hal yang umum.\n",
        "\n",
        "    while n > 1:\n",
        "        hasil *= n\n",
        "        n -= 1\n",
        "\n",
        "    return hasil\n",
        "\n",
        "# Pemanggilan Modifikasi:\n",
        "print(\"\\n--- Hasil Modifikasi (Penanganan Kasus Khusus) ---\")\n",
        "print(f\"Faktorial dari 5 adalah: {hitung_faktorial_valid(5)}\")\n",
        "print(f\"Faktorial dari 0 adalah: {hitung_faktorial_valid(0)}\")\n",
        "print(f\"Faktorial dari -3 adalah: {hitung_faktorial_valid(-3)}\")\n"
      ],
      "metadata": {
        "colab": {
          "base_uri": "https://localhost:8080/"
        },
        "id": "9SZbp66Glr1o",
        "outputId": "5ef2d4b5-d053-4d87-a3d8-22ed49306772"
      },
      "execution_count": 7,
      "outputs": [
        {
          "output_type": "stream",
          "name": "stdout",
          "text": [
            "\n",
            "--- Hasil Modifikasi (Penanganan Kasus Khusus) ---\n",
            "Faktorial dari 5 adalah: 120\n",
            "Faktorial dari 0 adalah: 1\n",
            "Faktorial dari -3 adalah: Error: Faktorial hanya terdefinisi untuk bilangan non-negatif.\n"
          ]
        }
      ]
    },
    {
      "cell_type": "code",
      "source": [
        "# Soal 6: Fungsi Komprehensif (Gabungan Perulangan dan Percabangan)\n",
        "\n",
        "def analisis_suhu_modifikasi(data_suhu, batas_panas=35, batas_dingin=15):\n",
        "    \"\"\"\n",
        "    Menghitung jumlah hari Panas dan Dingin menggunakan batas yang dapat disesuaikan.\n",
        "    Default: batas_panas=35, batas_dingin=15.\n",
        "    \"\"\"\n",
        "    panas_count = 0\n",
        "    dingin_count = 0\n",
        "\n",
        "    for suhu in data_suhu:\n",
        "        if suhu >= batas_panas:\n",
        "            panas_count += 1\n",
        "        elif suhu <= batas_dingin:\n",
        "            dingin_count += 1\n",
        "\n",
        "    return panas_count, dingin_count\n",
        "\n",
        "# Data suhu yang sama\n",
        "suhu_mingguan = [36, 30, 14, 25, 38, 16, 28]\n",
        "\n",
        "# Pemanggilan 1: Menggunakan nilai default (35 dan 15)\n",
        "jp_def, jd_def = analisis_suhu_modifikasi(suhu_mingguan)\n",
        "print(\"\\n--- Hasil Modifikasi (Nilai Default) ---\")\n",
        "print(f\"Batas Panas: >=35°C, Batas Dingin: <=15°C\")\n",
        "print(f\"Jumlah hari Panas: {jp_def}\") # Output: 2\n",
        "print(f\"Jumlah hari Dingin: {jd_def}\") # Output: 1\n",
        "\n",
        "# Pemanggilan 2: Menggunakan batas kustom (misal: 30 dan 20)\n",
        "jp_kustom, jd_kustom = analisis_suhu_modifikasi(suhu_mingguan, batas_panas=30, batas_dingin=20)\n",
        "print(\"\\n--- Hasil Modifikasi (Batas Kustom) ---\")\n",
        "print(f\"Batas Panas: >=30°C, Batas Dingin: <=20°C\")\n",
        "print(f\"Jumlah hari Panas: {jp_kustom}\") # Output: 3 (36, 30, 38)\n",
        "print(f\"Jumlah hari Dingin: {jd_kustom}\") # Output: 1 (14)"
      ],
      "metadata": {
        "colab": {
          "base_uri": "https://localhost:8080/"
        },
        "id": "ZDG6weO5mdnr",
        "outputId": "c584b253-0f48-463f-9229-b976a49bd4e6"
      },
      "execution_count": 9,
      "outputs": [
        {
          "output_type": "stream",
          "name": "stdout",
          "text": [
            "\n",
            "--- Hasil Modifikasi (Nilai Default) ---\n",
            "Batas Panas: >=35°C, Batas Dingin: <=15°C\n",
            "Jumlah hari Panas: 2\n",
            "Jumlah hari Dingin: 1\n",
            "\n",
            "--- Hasil Modifikasi (Batas Kustom) ---\n",
            "Batas Panas: >=30°C, Batas Dingin: <=20°C\n",
            "Jumlah hari Panas: 3\n",
            "Jumlah hari Dingin: 2\n"
          ]
        }
      ]
    }
  ]
}