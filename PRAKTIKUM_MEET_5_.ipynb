{
  "nbformat": 4,
  "nbformat_minor": 0,
  "metadata": {
    "colab": {
      "provenance": [],
      "authorship_tag": "ABX9TyMr6xU+Mp4/FX/+pgwGV9tF",
      "include_colab_link": true
    },
    "kernelspec": {
      "name": "python3",
      "display_name": "Python 3"
    },
    "language_info": {
      "name": "python"
    }
  },
  "cells": [
    {
      "cell_type": "markdown",
      "metadata": {
        "id": "view-in-github",
        "colab_type": "text"
      },
      "source": [
        "<a href=\"https://colab.research.google.com/github/Yohannes-4232401024/Pemrograman-Dasar/blob/main/PRAKTIKUM_MEET_5_.ipynb\" target=\"_parent\"><img src=\"https://colab.research.google.com/assets/colab-badge.svg\" alt=\"Open In Colab\"/></a>"
      ]
    },
    {
      "cell_type": "code",
      "execution_count": null,
      "metadata": {
        "colab": {
          "base_uri": "https://localhost:8080/"
        },
        "id": "lKr26WZVj6NS",
        "outputId": "81c8a9e1-8e6c-40ac-e9d7-af34abb61735"
      },
      "outputs": [
        {
          "output_type": "stream",
          "name": "stdout",
          "text": [
            "--- Soal 1 ---\n",
            "2\n",
            "4\n",
            "6\n",
            "8\n",
            "10\n",
            "12\n",
            "14\n",
            "16\n",
            "18\n",
            "20\n",
            "22\n",
            "24\n",
            "26\n",
            "28\n",
            "30\n",
            "32\n",
            "34\n",
            "36\n",
            "38\n",
            "40\n",
            "42\n",
            "44\n",
            "46\n",
            "48\n",
            "50\n"
          ]
        }
      ],
      "source": [
        "# Latihan no.1\n",
        "print(\"--- Soal 1 ---\")\n",
        "# Mencetak bilangan genap 1 hingga 50\n",
        "for angka in range(2, 51, 2):\n",
        "    print(angka)"
      ]
    },
    {
      "cell_type": "code",
      "source": [
        "print(\"--- Soal 2: Perulangan Input dengan Sentinel NIM ---\")\n",
        "\n",
        "# Menetapkan NIM Anda sebagai kode berhenti (sentinel)\n",
        "kode_berhenti = 4232401024\n",
        "input_pengguna = 0 # Inisialisasi awal, pastikan nilainya BUKAN kode_berhenti agar perulangan dimulai\n",
        "\n",
        "# Perulangan akan berlanjut selama input_pengguna TIDAK SAMA DENGAN kode_berhenti\n",
        "while input_pengguna != kode_berhenti:\n",
        "    try:\n",
        "        # Meminta input angka dari pengguna dan mengkonversinya ke integer\n",
        "        input_pengguna = int(input(f\"Halo, {input_pengguna} | Masukkan angka (Ketik {kode_berhenti} untuk berhenti): \"))\n",
        "\n",
        "    except ValueError:\n",
        "        # Menangani jika pengguna memasukkan input selain angka\n",
        "        print(\"Input tidak valid. Harap masukkan angka saja.\")\n",
        "\n",
        "# Perulangan berhenti ketika input_pengguna SAMA dengan kode_berhenti\n",
        "print(f\"==================================================\")\n",
        "print(f\"Perulangan telah dihentikan oleh Sentinel: {kode_berhenti} (NIM Anda).\")"
      ],
      "metadata": {
        "colab": {
          "base_uri": "https://localhost:8080/"
        },
        "id": "-Gk2wTUKttYs",
        "outputId": "7fbc29b0-c8eb-4260-9def-db264c362667"
      },
      "execution_count": null,
      "outputs": [
        {
          "output_type": "stream",
          "name": "stdout",
          "text": [
            "--- Soal 2: Perulangan Input dengan Sentinel NIM ---\n",
            "Halo, 0 | Masukkan angka (Ketik 4232401024 untuk berhenti): abc\n",
            "Input tidak valid. Harap masukkan angka saja.\n",
            "Halo, 0 | Masukkan angka (Ketik 4232401024 untuk berhenti): 20\n",
            "Halo, 20 | Masukkan angka (Ketik 4232401024 untuk berhenti): 4232401024\n",
            "==================================================\n",
            "Perulangan telah dihentikan oleh Sentinel: 4232401024 (NIM Anda).\n"
          ]
        }
      ]
    },
    {
      "cell_type": "code",
      "source": [
        "print(\"--- Soal 3 ---\")\n",
        "harga_barang = [15000, 25000, 10000, 5000, 3000,\n",
        "                17000, 23000, 50000, 7000, 6000]\n",
        "total_belanja = 0\n",
        "\n",
        "for harga in harga_barang:\n",
        "    total_belanja += harga\n",
        "\n",
        "print(\"Harga barang yang dibeli:\")\n",
        "for harga in harga_barang:\n",
        "    print(f\"- Rp{harga}\")\n",
        "print(\"Total biaya belanja adalah:\", total_belanja)\n"
      ],
      "metadata": {
        "colab": {
          "base_uri": "https://localhost:8080/"
        },
        "id": "gkvPLSKcpnXM",
        "outputId": "1611a011-44e9-443b-eb81-18bf4ef276ba"
      },
      "execution_count": null,
      "outputs": [
        {
          "output_type": "stream",
          "name": "stdout",
          "text": [
            "--- Soal 3 ---\n",
            "Harga barang yang dibeli:\n",
            "- Rp15000\n",
            "- Rp25000\n",
            "- Rp10000\n",
            "- Rp5000\n",
            "- Rp3000\n",
            "- Rp17000\n",
            "- Rp23000\n",
            "- Rp50000\n",
            "- Rp7000\n",
            "- Rp6000\n",
            "Total biaya belanja adalah: 161000\n"
          ]
        }
      ]
    },
    {
      "cell_type": "code",
      "source": [
        "print(\"--- Soal 4 ---\")\n",
        "percobaan_maksimal = 3\n",
        "percobaan_saat_ini = 1\n",
        "password_benar = \"4232401024\"\n",
        "\n",
        "while percobaan_saat_ini <= percobaan_maksimal:\n",
        "    print(f\"Percobaan ke-{percobaan_saat_ini}...\")\n",
        "    password = input(\"Masukkan Password: \")\n",
        "\n",
        "    if password == password_benar :\n",
        "        print(\"Akses diterima.\")\n",
        "        break\n",
        "    else:\n",
        "        print(\"Password salah. Coba lagi.\")\n",
        "        percobaan_saat_ini += 1\n",
        "\n",
        "if percobaan_saat_ini == percobaan_maksimal + 1:\n",
        "    print(\"Kesempatan habis.\")"
      ],
      "metadata": {
        "colab": {
          "base_uri": "https://localhost:8080/"
        },
        "id": "UFklVxLxxSiA",
        "outputId": "5ed04c38-f355-4f66-e329-9ef6fcf3b933"
      },
      "execution_count": null,
      "outputs": [
        {
          "output_type": "stream",
          "name": "stdout",
          "text": [
            "--- Soal 4 ---\n",
            "Percobaan ke-1...\n",
            "Masukkan Password: yohannes123\n",
            "Password salah. Coba lagi.\n",
            "Percobaan ke-2...\n",
            "Masukkan Password: purba321\n",
            "Password salah. Coba lagi.\n",
            "Percobaan ke-3...\n",
            "Masukkan Password: 4232401024\n",
            "Akses diterima.\n"
          ]
        }
      ]
    },
    {
      "cell_type": "code",
      "source": [
        "print(\"--- Soal 5 ---\")\n",
        "nama_proyek = \"POLITEKNIKNEGERIBATAM\"\n",
        "hasil_output = \"\"\n",
        "\n",
        "for karakter in nama_proyek:\n",
        "    hasil_output += karakter + \"-\"\n",
        "\n",
        "print(hasil_output)"
      ],
      "metadata": {
        "colab": {
          "base_uri": "https://localhost:8080/"
        },
        "id": "yLCR92vE0gEe",
        "outputId": "b40cae5f-484f-43a5-bb8a-92d3a63f39d2"
      },
      "execution_count": null,
      "outputs": [
        {
          "output_type": "stream",
          "name": "stdout",
          "text": [
            "--- Soal 5 ---\n",
            "P-O-L-I-T-E-K-N-I-K-N-E-G-E-R-I-B-A-T-A-M-\n"
          ]
        }
      ]
    },
    {
      "cell_type": "code",
      "source": [
        "print(\"--- Soal 6 ---\")\n",
        "# Countdown dari 255 ke 1\n",
        "for i in range(255, 0,-1):\n",
        "    print(i)"
      ],
      "metadata": {
        "colab": {
          "base_uri": "https://localhost:8080/"
        },
        "id": "q-7U-bQA1G32",
        "outputId": "59085f30-f860-4ec4-d903-e994588e72c1"
      },
      "execution_count": null,
      "outputs": [
        {
          "output_type": "stream",
          "name": "stdout",
          "text": [
            "--- Soal 6 ---\n",
            "255\n",
            "254\n",
            "253\n",
            "252\n",
            "251\n",
            "250\n",
            "249\n",
            "248\n",
            "247\n",
            "246\n",
            "245\n",
            "244\n",
            "243\n",
            "242\n",
            "241\n",
            "240\n",
            "239\n",
            "238\n",
            "237\n",
            "236\n",
            "235\n",
            "234\n",
            "233\n",
            "232\n",
            "231\n",
            "230\n",
            "229\n",
            "228\n",
            "227\n",
            "226\n",
            "225\n",
            "224\n",
            "223\n",
            "222\n",
            "221\n",
            "220\n",
            "219\n",
            "218\n",
            "217\n",
            "216\n",
            "215\n",
            "214\n",
            "213\n",
            "212\n",
            "211\n",
            "210\n",
            "209\n",
            "208\n",
            "207\n",
            "206\n",
            "205\n",
            "204\n",
            "203\n",
            "202\n",
            "201\n",
            "200\n",
            "199\n",
            "198\n",
            "197\n",
            "196\n",
            "195\n",
            "194\n",
            "193\n",
            "192\n",
            "191\n",
            "190\n",
            "189\n",
            "188\n",
            "187\n",
            "186\n",
            "185\n",
            "184\n",
            "183\n",
            "182\n",
            "181\n",
            "180\n",
            "179\n",
            "178\n",
            "177\n",
            "176\n",
            "175\n",
            "174\n",
            "173\n",
            "172\n",
            "171\n",
            "170\n",
            "169\n",
            "168\n",
            "167\n",
            "166\n",
            "165\n",
            "164\n",
            "163\n",
            "162\n",
            "161\n",
            "160\n",
            "159\n",
            "158\n",
            "157\n",
            "156\n",
            "155\n",
            "154\n",
            "153\n",
            "152\n",
            "151\n",
            "150\n",
            "149\n",
            "148\n",
            "147\n",
            "146\n",
            "145\n",
            "144\n",
            "143\n",
            "142\n",
            "141\n",
            "140\n",
            "139\n",
            "138\n",
            "137\n",
            "136\n",
            "135\n",
            "134\n",
            "133\n",
            "132\n",
            "131\n",
            "130\n",
            "129\n",
            "128\n",
            "127\n",
            "126\n",
            "125\n",
            "124\n",
            "123\n",
            "122\n",
            "121\n",
            "120\n",
            "119\n",
            "118\n",
            "117\n",
            "116\n",
            "115\n",
            "114\n",
            "113\n",
            "112\n",
            "111\n",
            "110\n",
            "109\n",
            "108\n",
            "107\n",
            "106\n",
            "105\n",
            "104\n",
            "103\n",
            "102\n",
            "101\n",
            "100\n",
            "99\n",
            "98\n",
            "97\n",
            "96\n",
            "95\n",
            "94\n",
            "93\n",
            "92\n",
            "91\n",
            "90\n",
            "89\n",
            "88\n",
            "87\n",
            "86\n",
            "85\n",
            "84\n",
            "83\n",
            "82\n",
            "81\n",
            "80\n",
            "79\n",
            "78\n",
            "77\n",
            "76\n",
            "75\n",
            "74\n",
            "73\n",
            "72\n",
            "71\n",
            "70\n",
            "69\n",
            "68\n",
            "67\n",
            "66\n",
            "65\n",
            "64\n",
            "63\n",
            "62\n",
            "61\n",
            "60\n",
            "59\n",
            "58\n",
            "57\n",
            "56\n",
            "55\n",
            "54\n",
            "53\n",
            "52\n",
            "51\n",
            "50\n",
            "49\n",
            "48\n",
            "47\n",
            "46\n",
            "45\n",
            "44\n",
            "43\n",
            "42\n",
            "41\n",
            "40\n",
            "39\n",
            "38\n",
            "37\n",
            "36\n",
            "35\n",
            "34\n",
            "33\n",
            "32\n",
            "31\n",
            "30\n",
            "29\n",
            "28\n",
            "27\n",
            "26\n",
            "25\n",
            "24\n",
            "23\n",
            "22\n",
            "21\n",
            "20\n",
            "19\n",
            "18\n",
            "17\n",
            "16\n",
            "15\n",
            "14\n",
            "13\n",
            "12\n",
            "11\n",
            "10\n",
            "9\n",
            "8\n",
            "7\n",
            "6\n",
            "5\n",
            "4\n",
            "3\n",
            "2\n",
            "1\n"
          ]
        }
      ]
    },
    {
      "cell_type": "code",
      "source": [
        "print(\"--- Soal 7 ---\")\n",
        "print(\"NAMA-NAMA KELURAHAN DI KOTA BATAM\")\n",
        "print(\"==================================\")\n",
        "nama_kelurahan = [\"Baloi Permai\",\"Belian\",\"Sukajadi\",\"Sungai Panas\",\"Taman Baloi\",\n",
        "                  \"Teluk Tering\",\"Bukit Tempayan\",\"Buliang\",\"Kibing\",\"Tanjung Uncang\",\n",
        "                  \"Sagulung Kota\",\"Sungai Binti\",\"Sungai Langkai\",\"Sungai Lekop\"]\n",
        "\n",
        "for i, nama in enumerate(nama_kelurahan):\n",
        "    # i adalah indeks(dimulai dari 0 secara default), nama adalah elemen\n",
        "    # untuk mencetak nomor dimulai dari 1, gunakan i + 1\n",
        "    print(f\"Kelurahan ke-{i + 1}: {nama}\")"
      ],
      "metadata": {
        "colab": {
          "base_uri": "https://localhost:8080/"
        },
        "id": "BnyY2Bra1EDa",
        "outputId": "48cac677-5450-438d-c575-ea1b435b0198"
      },
      "execution_count": null,
      "outputs": [
        {
          "output_type": "stream",
          "name": "stdout",
          "text": [
            "--- Soal 7 ---\n",
            "NAMA-NAMA KELURAHAN DI KOTA BATAM\n",
            "==================================\n",
            "Kelurahan ke-1: Baloi Permai\n",
            "Kelurahan ke-2: Belian\n",
            "Kelurahan ke-3: Sukajadi\n",
            "Kelurahan ke-4: Sungai Panas\n",
            "Kelurahan ke-5: Taman Baloi\n",
            "Kelurahan ke-6: Teluk Tering\n",
            "Kelurahan ke-7: Bukit Tempayan\n",
            "Kelurahan ke-8: Buliang\n",
            "Kelurahan ke-9: Kibing\n",
            "Kelurahan ke-10: Tanjung Uncang\n",
            "Kelurahan ke-11: Sagulung Kota\n",
            "Kelurahan ke-12: Sungai Binti\n",
            "Kelurahan ke-13: Sungai Langkai\n",
            "Kelurahan ke-14: Sungai Lekop\n"
          ]
        }
      ]
    },
    {
      "cell_type": "code",
      "source": [
        "print(\"--- Soal 8 ---\")\n",
        "\n",
        "data_angka = [10, 20, 0, 30,40]\n",
        "\n",
        "for angka in data_angka:\n",
        "    if angka == 0:\n",
        "        break\n",
        "    print(angka)\n",
        "\n",
        "print(\"Program berhenti karena angka 0 ditemukan.\")"
      ],
      "metadata": {
        "id": "L5Yw6d8EWOUg",
        "outputId": "ad0b626d-7242-44a9-f4bd-b87f13a0ab12",
        "colab": {
          "base_uri": "https://localhost:8080/"
        }
      },
      "execution_count": 2,
      "outputs": [
        {
          "output_type": "stream",
          "name": "stdout",
          "text": [
            "--- Soal 8 ---\n",
            "10\n",
            "20\n",
            "Program berhenti karena angka 0 ditemukan.\n"
          ]
        }
      ]
    },
    {
      "cell_type": "code",
      "source": [
        "print(\"--- Soal 9 ---\")\n",
        "total = 0\n",
        "bilangan = 1\n",
        "batas = 20\n",
        "\n",
        "while total <= batas:\n",
        "    total += bilangan\n",
        "    bilangan += 1\n",
        "\n",
        "print(\"Total terakhir:\", total)"
      ],
      "metadata": {
        "colab": {
          "base_uri": "https://localhost:8080/"
        },
        "id": "1RHogDfg4966",
        "outputId": "d5731c96-e0de-429f-9f82-71e570ffdd65"
      },
      "execution_count": null,
      "outputs": [
        {
          "output_type": "stream",
          "name": "stdout",
          "text": [
            "--- Soal 9 ---\n",
            "Total terakhir: 21\n"
          ]
        }
      ]
    },
    {
      "cell_type": "code",
      "source": [
        "print(\"--- Soal 10 ---\")\n",
        "jumlah_baris = 3\n",
        "\n",
        "for baris in range(jumlah_baris):\n",
        "    baris_teks = \"\"\n",
        "    for i in range(1):\n",
        "        baris_teks += \"Python \"\n",
        "    print(baris_teks)\n",
        "\n",
        "# Output:\n",
        "# Python\n",
        "# Python\n",
        "# Python"
      ],
      "metadata": {
        "colab": {
          "base_uri": "https://localhost:8080/"
        },
        "id": "wO_SBSgo5J56",
        "outputId": "3a5d4ca0-0fc2-4ddb-b24d-c37023223bc4"
      },
      "execution_count": null,
      "outputs": [
        {
          "output_type": "stream",
          "name": "stdout",
          "text": [
            "--- Soal 10 ---\n",
            "Python \n",
            "Python \n",
            "Python \n"
          ]
        }
      ]
    }
  ]
}