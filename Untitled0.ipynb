{
  "nbformat": 4,
  "nbformat_minor": 0,
  "metadata": {
    "colab": {
      "provenance": [],
      "authorship_tag": "ABX9TyME5Q2rb2kO7pg6KiiHRj43",
      "include_colab_link": true
    },
    "kernelspec": {
      "name": "python3",
      "display_name": "Python 3"
    },
    "language_info": {
      "name": "python"
    }
  },
  "cells": [
    {
      "cell_type": "markdown",
      "metadata": {
        "id": "view-in-github",
        "colab_type": "text"
      },
      "source": [
        "<a href=\"https://colab.research.google.com/github/Yohannes-4232401024/Pemrograman-Dasar/blob/main/Untitled0.ipynb\" target=\"_parent\"><img src=\"https://colab.research.google.com/assets/colab-badge.svg\" alt=\"Open In Colab\"/></a>"
      ]
    },
    {
      "cell_type": "code",
      "execution_count": null,
      "metadata": {
        "colab": {
          "base_uri": "https://localhost:8080/"
        },
        "id": "rg_0Xc8st1XA",
        "outputId": "49567fd8-85a4-4599-d036-8463aea5b493"
      },
      "outputs": [
        {
          "output_type": "stream",
          "name": "stdout",
          "text": [
            "34\n"
          ]
        }
      ],
      "source": [
        "# deklarasi variabel list\n",
        "numbers = [23, 43, 15, 34]\n",
        "# cara mengakses elemen dalam variabel list\n",
        "numbers [0]   #23\n",
        "numbers [1]   #43\n",
        "numbers [2]   #15\n",
        "numbers [3]   #34\n",
        "\n",
        "# cara mengubah nilai elemen dalam variabel list\n",
        "numbers [2] #51\n",
        "numbers [2] #51\n",
        "\n",
        "print (numbers[3])"
      ]
    },
    {
      "cell_type": "code",
      "source": [
        "# deklarasi variabel list numbers\n",
        "numbers = [1,2,3]\n",
        "\n",
        "# menambahkan elemen di indeks ke-4\n",
        "numbers.insert (4, 5)  # [1,2,3,5]\n",
        "\n",
        "# mengubah elemen di indeks ke-4\n",
        "numbers[3] = 4  #[1,2,3,4]\n",
        "\n",
        "# menghapus elemen di indeks ke-2\n",
        "numbers.pop(2)  #[1,2,4]"
      ],
      "metadata": {
        "id": "SVDnFofZyJrx",
        "colab": {
          "base_uri": "https://localhost:8080/"
        },
        "outputId": "623b139b-e116-4a4d-f528-387fa4ce139d"
      },
      "execution_count": null,
      "outputs": [
        {
          "output_type": "execute_result",
          "data": {
            "text/plain": [
              "3"
            ]
          },
          "metadata": {},
          "execution_count": 15
        }
      ]
    },
    {
      "cell_type": "code",
      "source": [
        "# deklarasi variabel list numbers\n",
        "numbers = [1, 2, 3]\n",
        "\n",
        "# menambahkan elemen di indeks ke-4\n",
        "numbers.insert(4, 5) # [1, 2, 3, 5]\n",
        "\n",
        "# mengubah elemen di indeks ke-4\n",
        "numbers [3] = 4 # [1, 2, 3, 4]\n",
        "\n",
        "# menghapus elemen di indeks ke-2\n",
        "numbers.pop(2) # [1, 2, 4]\n",
        "\n",
        "#print setiap hasil perubahan dan amati hasilnya"
      ],
      "metadata": {
        "colab": {
          "base_uri": "https://localhost:8080/"
        },
        "id": "q5bY3cS-AmJ5",
        "outputId": "26e3293a-4327-410e-ed6e-0f700564ea7a"
      },
      "execution_count": 1,
      "outputs": [
        {
          "output_type": "execute_result",
          "data": {
            "text/plain": [
              "3"
            ]
          },
          "metadata": {},
          "execution_count": 1
        }
      ]
    },
    {
      "cell_type": "code",
      "source": [
        "# deklarasi variabel list numbers\n",
        "myList = [1, \"Rumah\", 4.5, True ,[\"Kamar mandi\", \"Kamar tidur\"]]\n",
        "\n",
        "# cara mengakses elemen dalam variabel list\n",
        "myList[0] #1\n",
        "myList[1] #Rumah\n",
        "myList[2] #4.5\n",
        "myList[3] #True\n",
        "myList[4] # [\"Kamar mandi\", \"Kamar tidur\"]\n",
        "\n",
        "# cara mengakses elemen dalam sublist\n",
        "myList[4][0] # \"Kamar mandi\"\n",
        "myList[4][1] # \"Kamar tidur\""
      ],
      "metadata": {
        "id": "dir1mz6i2fmd",
        "colab": {
          "base_uri": "https://localhost:8080/",
          "height": 35
        },
        "outputId": "23149165-f324-41b7-cee3-c86f67a9d9af"
      },
      "execution_count": null,
      "outputs": [
        {
          "output_type": "execute_result",
          "data": {
            "text/plain": [
              "'Kamar tidur'"
            ],
            "application/vnd.google.colaboratory.intrinsic+json": {
              "type": "string"
            }
          },
          "metadata": {},
          "execution_count": 16
        }
      ]
    },
    {
      "cell_type": "code",
      "source": [
        "# deklarasi variabel tuple\n",
        "\n",
        "numbers = (23, 43, 15, 34)\n",
        "\n",
        "# cara mengakses elemen dalam variabel tuple\n",
        "\n",
        "numbers[0] # 23\n",
        "\n",
        "numbers [1] # 43\n",
        "\n",
        "numbers [2] # 15\n",
        "\n",
        "#lakuan print lalu amati hasilnya"
      ],
      "metadata": {
        "id": "oZ4FXRQr8rF7",
        "colab": {
          "base_uri": "https://localhost:8080/"
        },
        "outputId": "b2f44efa-448b-4e81-ebf5-fddcacd55320"
      },
      "execution_count": 3,
      "outputs": [
        {
          "output_type": "execute_result",
          "data": {
            "text/plain": [
              "15"
            ]
          },
          "metadata": {},
          "execution_count": 3
        }
      ]
    },
    {
      "cell_type": "code",
      "source": [
        "#deklarasi variabel set a dan b\n",
        "\n",
        "a = {1, 2, 3}\n",
        "\n",
        "b = {2, 3, 4}\n",
        "\n",
        "# operasi gabungan\n",
        "\n",
        "a.union(b) # {1, 2, 3, 4}\n",
        "\n",
        "# operasi irisan\n",
        "\n",
        "a.intersection(b)\n",
        "\n",
        "# {2, 3}\n",
        "\n",
        "# operasi perbedaan\n",
        "\n",
        "a.symmetric_difference(b)\n",
        "\n",
        "# {1, 4}\n",
        "\n",
        "#lakukan print dan lihat hasilnya"
      ],
      "metadata": {
        "colab": {
          "base_uri": "https://localhost:8080/"
        },
        "id": "0bUnyKn_BGN3",
        "outputId": "9bfd0a17-8adc-4d23-ad41-e3cee414a5fd"
      },
      "execution_count": 4,
      "outputs": [
        {
          "output_type": "execute_result",
          "data": {
            "text/plain": [
              "{1, 4}"
            ]
          },
          "metadata": {},
          "execution_count": 4
        }
      ]
    },
    {
      "cell_type": "code",
      "source": [
        "#deklarasi variabel dictionary\n",
        "\n",
        "propertyDetail = {\"numFloors\": 1, \"propertyType\": \"Rumah\", \"hasTerrace\": True, \"hasGarage\": False}\n",
        "\n",
        "\n",
        "# cara mengakses elemen dalam variabel dictionary\n",
        "\n",
        "propertyDetail[\"numFloors\"]          #1\n",
        "\n",
        "propertyDetail[\"propertyType\"]       # Rumah\n",
        "\n",
        "propertyDetail[\"hasTerrace\"]         # True\n",
        "\n",
        "propertyDetail[\"hasGarage\"]          # False\n",
        "\n",
        "# cara mengubah nilai elemen dalam variabel dictionary\n",
        "\n",
        "propertyDetail [\"hasTerrace\"] = False\n",
        "\n",
        "propertyDetail[\"hasTerrace\"]  # False\n",
        "\n",
        "#print(propertyDetail[\"propertyType\"])\n",
        "\n",
        "#lakuan print lalu amati hasilnya"
      ],
      "metadata": {
        "colab": {
          "base_uri": "https://localhost:8080/"
        },
        "id": "Duws9HqyBg45",
        "outputId": "742b3e64-b63a-4807-e265-b2f203716b2f"
      },
      "execution_count": 5,
      "outputs": [
        {
          "output_type": "execute_result",
          "data": {
            "text/plain": [
              "False"
            ]
          },
          "metadata": {},
          "execution_count": 5
        }
      ]
    }
  ]
}