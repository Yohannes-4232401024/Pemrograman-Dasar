{
  "nbformat": 4,
  "nbformat_minor": 0,
  "metadata": {
    "colab": {
      "provenance": [],
      "authorship_tag": "ABX9TyMxVrNsTTEjBCqN25TnoNfa",
      "include_colab_link": true
    },
    "kernelspec": {
      "name": "python3",
      "display_name": "Python 3"
    },
    "language_info": {
      "name": "python"
    }
  },
  "cells": [
    {
      "cell_type": "markdown",
      "metadata": {
        "id": "view-in-github",
        "colab_type": "text"
      },
      "source": [
        "<a href=\"https://colab.research.google.com/github/Yohannes-4232401024/Pemrograman-Dasar/blob/main/Latihan%20meet%203.ipynb\" target=\"_parent\"><img src=\"https://colab.research.google.com/assets/colab-badge.svg\" alt=\"Open In Colab\"/></a>"
      ]
    },
    {
      "cell_type": "code",
      "execution_count": 2,
      "metadata": {
        "colab": {
          "base_uri": "https://localhost:8080/"
        },
        "id": "K1WNB0_OXyTS",
        "outputId": "27ed01a8-d285-48d9-ae18-aa6a67d3925e"
      },
      "outputs": [
        {
          "output_type": "stream",
          "name": "stdout",
          "text": [
            "tahun: 2024\n",
            "apakah tahun 2024 tahun kabisat? True\n"
          ]
        }
      ],
      "source": [
        "# Latihan menenentukan tahun kabisat\n",
        "\n",
        "# Fungsi Input\n",
        "tahun = int(input(\"tahun: \"))\n",
        "kabisat = (tahun % 4 == 0) and (tahun % 100 != 0) or (tahun % 400 == 0)\n",
        "\n",
        "# Fungsi Output\n",
        "print(\"apakah tahun %d tahun kabisat? %s\" % (tahun, kabisat))"
      ]
    },
    {
      "cell_type": "code",
      "source": [
        "# Program Sederhana\n",
        "\n",
        "# Fungsi Input\n",
        "nama = input(\"nama anda : \")\n",
        "barang = input(\"barang yang dibeli :\")\n",
        "harga = float(input(\"harga satuan barang :\"))\n",
        "jumlah = int(input(\"jumlah barang :\"))\n",
        "\n",
        "# Operasi Aritmatika\n",
        "total = harga * jumlah\n",
        "\n",
        "# Fungsi Output\n",
        "print(\"\\n~~~STRUK BELANJA~~~\")\n",
        "print(\"Nama Pembeli :\", nama)\n",
        "print(\"Harga Satuan : Rp %.2f\" % harga)\n",
        "print(\"Jumlah       :\", jumlah)\n",
        "print(\"Total Harga  : Rp %.2f\" % total)\n",
        "\n",
        "# Tambahkan input untuk total bayar\n",
        "total_bayar = float(input(\"Total Bayar  : Rp \"))\n",
        "\n",
        "# Hitung kembalian\n",
        "kembalian = total_bayar - total\n",
        "\n",
        "# Tampilkan kembalian\n",
        "print(\"Kembalian    : Rp %.2f\" % kembalian)\n",
        "\n",
        "print(\"======================\")\n",
        "print(\"Terima Kasih\")"
      ],
      "metadata": {
        "colab": {
          "base_uri": "https://localhost:8080/"
        },
        "id": "pmLG6UADtJhe",
        "outputId": "2b26a1d3-e8fa-4001-c1dd-663de36cc14b"
      },
      "execution_count": 6,
      "outputs": [
        {
          "output_type": "stream",
          "name": "stdout",
          "text": [
            "nama anda : Yohannes \n",
            "barang yang dibeli :Sepatu\n",
            "harga satuan barang :450000\n",
            "jumlah barang :1\n",
            "\n",
            "~~~STRUK BELANJA~~~\n",
            "Nama Pembeli : Yohannes \n",
            "Harga Satuan : Rp 450000.00\n",
            "Jumlah       : 1\n",
            "Total Harga  : Rp 450000.00\n",
            "Total Bayar  : Rp 500000\n",
            "Kembalian    : Rp 50000.00\n",
            "======================\n",
            "Terima Kasih\n"
          ]
        }
      ]
    }
  ]
}