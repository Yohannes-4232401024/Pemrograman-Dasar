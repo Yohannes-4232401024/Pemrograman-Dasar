{
  "nbformat": 4,
  "nbformat_minor": 0,
  "metadata": {
    "colab": {
      "provenance": [],
      "authorship_tag": "ABX9TyMW/+G0q7PzhYqanpY74iRM",
      "include_colab_link": true
    },
    "kernelspec": {
      "name": "python3",
      "display_name": "Python 3"
    },
    "language_info": {
      "name": "python"
    }
  },
  "cells": [
    {
      "cell_type": "markdown",
      "metadata": {
        "id": "view-in-github",
        "colab_type": "text"
      },
      "source": [
        "<a href=\"https://colab.research.google.com/github/Yohannes-4232401024/Pemrograman-Dasar/blob/main/Latihan%20meet%203.ipynb\" target=\"_parent\"><img src=\"https://colab.research.google.com/assets/colab-badge.svg\" alt=\"Open In Colab\"/></a>"
      ]
    },
    {
      "cell_type": "code",
      "execution_count": 1,
      "metadata": {
        "colab": {
          "base_uri": "https://localhost:8080/"
        },
        "id": "K1WNB0_OXyTS",
        "outputId": "fbdb3d15-8dd2-4230-a942-e22dafdff5ad"
      },
      "outputs": [
        {
          "output_type": "stream",
          "name": "stdout",
          "text": [
            "True\n"
          ]
        }
      ],
      "source": [
        "# Latihan tahun kabisat\n",
        "\n",
        "tahun = 2024\n",
        "tahun_kabisat = (tahun % 4 == 0) and (tahun % 100 != 0) or (tahun % 400 == 0)\n",
        "print(tahun_kabisat)"
      ]
    }
  ]
}