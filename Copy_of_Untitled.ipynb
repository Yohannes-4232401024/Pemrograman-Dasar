{
  "nbformat": 4,
  "nbformat_minor": 0,
  "metadata": {
    "colab": {
      "provenance": [],
      "authorship_tag": "ABX9TyNIcyoolWLJXuk6baQ38I0k",
      "include_colab_link": true
    },
    "kernelspec": {
      "name": "python3",
      "display_name": "Python 3"
    },
    "language_info": {
      "name": "python"
    }
  },
  "cells": [
    {
      "cell_type": "markdown",
      "metadata": {
        "id": "view-in-github",
        "colab_type": "text"
      },
      "source": [
        "<a href=\"https://colab.research.google.com/github/Yohannes-4232401024/Pemrograman-Dasar/blob/main/Copy_of_Untitled.ipynb\" target=\"_parent\"><img src=\"https://colab.research.google.com/assets/colab-badge.svg\" alt=\"Open In Colab\"/></a>"
      ]
    },
    {
      "cell_type": "code",
      "execution_count": null,
      "metadata": {
        "colab": {
          "base_uri": "https://localhost:8080/"
        },
        "id": "rr7hW6rhjQNu",
        "outputId": "88717565-8d17-4a4a-c26d-e05b8b6db218"
      },
      "outputs": [
        {
          "output_type": "stream",
          "name": "stdout",
          "text": [
            "Yohannes Paruntungan Purba\n",
            "4232401024\n",
            "20\n",
            "Badminton\n",
            "Teknik Elektro\n",
            "False\n"
          ]
        }
      ],
      "source": [
        "# biodata saya\n",
        "\n",
        "nama = \"Yohannes Paruntungan Purba\"\n",
        "nim = \"4232401024\"\n",
        "umur = 20\n",
        "hobi = \"Badminton\"\n",
        "jurusan = \"Teknik Elektro\"\n",
        "status_lulus = False\n",
        "\n",
        "print (nama)\n",
        "print (nim)\n",
        "print (umur)\n",
        "print (hobi)\n",
        "print (jurusan)\n",
        "print (status_lulus)"
      ]
    },
    {
      "cell_type": "markdown",
      "source": [],
      "metadata": {
        "id": "9V_-vvdTjp8w"
      }
    },
    {
      "cell_type": "code",
      "metadata": {
        "colab": {
          "base_uri": "https://localhost:8080/"
        },
        "id": "ade43e81",
        "outputId": "cd99b0b3-c0a0-497b-92f1-7d0af50f17e3"
      },
      "source": [
        "# biodata saya\n",
        "nama = \"Yohannes Paruntungan Purba\"\n",
        "nim = \"4232401024\"\n",
        "umur = 20\n",
        "hobi = \"Badminton\"\n",
        "jurusan = \"Teknik Elektro\"\n",
        "status_lulus = False\n",
        "\n",
        "# Menggunakan set untuk menyimpan beberapa nilai (set tidak menyimpan urutan dan hanya nilai unik)\n",
        "# Set kurang cocok untuk menyimpan biodata lengkap karena tidak ada key/label untuk setiap nilai\n",
        "# Namun, bisa digunakan untuk menyimpan kumpulan hobi atau mata kuliah, misalnya.\n",
        "# Contoh: Set hobi (jika ada lebih dari satu)\n",
        "hobi_set = {\"Badminton\", \"berenang\",}\n",
        "print(\"\\nSet Hobi:\")\n",
        "print(hobi_set)\n",
        "\n",
        "# Menggunakan dictionary untuk menyimpan biodata (sudah pernah ditunjukkan, ini contoh lain)\n",
        "biodata_dict = {\n",
        "    \"Nama\": nama,\n",
        "    \"NIM\": nim,\n",
        "    \"Umur\": umur,\n",
        "    \"Hobi\": hobi,\n",
        "    \"Jurusan\": jurusan,\n",
        "    \"Status Kelulusan\": status_lulus\n",
        "}\n",
        "\n",
        "print(\"\\nBiodata (Dictionary):\")\n",
        "for key, value in biodata_dict.items():\n",
        "    print(f\"{key}: {value}\")"
      ],
      "execution_count": 5,
      "outputs": [
        {
          "output_type": "stream",
          "name": "stdout",
          "text": [
            "\n",
            "Set Hobi:\n",
            "{'Badminton', 'futsal', 'berenang'}\n",
            "\n",
            "Biodata (Dictionary):\n",
            "Nama: Yohannes Paruntungan Purba\n",
            "NIM: 4232401024\n",
            "Umur: 20\n",
            "Hobi: Badminton\n",
            "Jurusan: Teknik Elektro\n",
            "Status Kelulusan: False\n"
          ]
        }
      ]
    },
    {
      "cell_type": "code",
      "metadata": {
        "colab": {
          "base_uri": "https://localhost:8080/"
        },
        "id": "ca0c33b7",
        "outputId": "84190c8f-40f7-4a60-cae3-9ef2a3e3f9d1"
      },
      "source": [
        "# biodata saya\n",
        "nama = \"Yohannes Paruntungan Purba\"\n",
        "nim = \"4232401024\"\n",
        "umur = 20\n",
        "hobi = \"Badminton\"\n",
        "jurusan = \"Teknik Elektro\"\n",
        "status_lulus = False\n",
        "\n",
        "# Menggunakan Dictionary\n",
        "biodata_dict = {\n",
        "    \"Nama\": nama,\n",
        "    \"NIM\": nim,\n",
        "    \"Umur\": umur,\n",
        "    \"Hobi\": hobi,\n",
        "    \"Jurusan\": jurusan,\n",
        "    \"Status Kelulusan\": status_lulus\n",
        "}\n",
        "print(\"--- Biodata (Dictionary) ---\")\n",
        "for key, value in biodata_dict.items():\n",
        "    print(f\"{key}: {value}\")\n",
        "print(\"-\" * 28)\n",
        "\n",
        "# Menggunakan List (list sederhana)\n",
        "biodata_list_simple = [nama, nim, umur, hobi, jurusan, status_lulus]\n",
        "print(\"\\n--- Biodata (List Sederhana) ---\")\n",
        "print(biodata_list_simple)\n",
        "print(\"-\" * 34)\n",
        "\n",
        "# Menggunakan List of Tuples\n",
        "biodata_list_of_tuples = [\n",
        "    (\"Nama\", nama),\n",
        "    (\"NIM\", nim),\n",
        "    (\"Umur\", umur),\n",
        "    (\"Hobi\", hobi),\n",
        "    (\"Jurusan\", jurusan),\n",
        "    (\"Status Kelulusan\", status_lulus)\n",
        "]\n",
        "print(\"\\n--- Biodata (List of Tuples) ---\")\n",
        "for item in biodata_list_of_tuples:\n",
        "    print(f\"{item[0]}: {item[1]}\")\n",
        "print(\"-\" * 32)\n",
        "\n",
        "\n",
        "# Menggunakan Tuple\n",
        "biodata_tuple = (nama, nim, umur, hobi, jurusan, status_lulus)\n",
        "print(\"\\n--- Biodata (Tuple) ---\")\n",
        "print(biodata_tuple)\n",
        "print(\"-\" * 25)\n",
        "\n",
        "# Menggunakan Set (untuk nilai-nilai unik seperti hobi atau mata kuliah)\n",
        "# Perlu diingat set tidak cocok untuk menyimpan semua biodata karena tidak ada label dan urutan\n",
        "hobi_set = {\"Badminton\", \"Membaca\", \"Programming\", \"Badminton\"} # \"Badminton\" akan muncul sekali saja\n",
        "print(\"\\n--- Hobi (Set) ---\")\n",
        "print(hobi_set)\n",
        "print(\"-\" * 18)"
      ],
      "execution_count": 6,
      "outputs": [
        {
          "output_type": "stream",
          "name": "stdout",
          "text": [
            "--- Biodata (Dictionary) ---\n",
            "Nama: Yohannes Paruntungan Purba\n",
            "NIM: 4232401024\n",
            "Umur: 20\n",
            "Hobi: Badminton\n",
            "Jurusan: Teknik Elektro\n",
            "Status Kelulusan: False\n",
            "----------------------------\n",
            "\n",
            "--- Biodata (List Sederhana) ---\n",
            "['Yohannes Paruntungan Purba', '4232401024', 20, 'Badminton', 'Teknik Elektro', False]\n",
            "----------------------------------\n",
            "\n",
            "--- Biodata (List of Tuples) ---\n",
            "Nama: Yohannes Paruntungan Purba\n",
            "NIM: 4232401024\n",
            "Umur: 20\n",
            "Hobi: Badminton\n",
            "Jurusan: Teknik Elektro\n",
            "Status Kelulusan: False\n",
            "--------------------------------\n",
            "\n",
            "--- Biodata (Tuple) ---\n",
            "('Yohannes Paruntungan Purba', '4232401024', 20, 'Badminton', 'Teknik Elektro', False)\n",
            "-------------------------\n",
            "\n",
            "--- Hobi (Set) ---\n",
            "{'Membaca', 'Programming', 'Badminton'}\n",
            "------------------\n"
          ]
        }
      ]
    },
    {
      "cell_type": "code",
      "source": [],
      "metadata": {
        "id": "jN2hx1T2p6v4"
      },
      "execution_count": null,
      "outputs": []
    }
  ]
}