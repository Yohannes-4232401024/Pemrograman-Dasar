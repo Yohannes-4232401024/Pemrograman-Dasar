{
  "nbformat": 4,
  "nbformat_minor": 0,
  "metadata": {
    "colab": {
      "provenance": [],
      "authorship_tag": "ABX9TyNP6hBcEFP5/lmo98jBpBoj",
      "include_colab_link": true
    },
    "kernelspec": {
      "name": "python3",
      "display_name": "Python 3"
    },
    "language_info": {
      "name": "python"
    }
  },
  "cells": [
    {
      "cell_type": "markdown",
      "metadata": {
        "id": "view-in-github",
        "colab_type": "text"
      },
      "source": [
        "<a href=\"https://colab.research.google.com/github/Yohannes-4232401024/Pemrograman-Dasar/blob/main/Copy_of_Untitled.ipynb\" target=\"_parent\"><img src=\"https://colab.research.google.com/assets/colab-badge.svg\" alt=\"Open In Colab\"/></a>"
      ]
    },
    {
      "cell_type": "code",
      "execution_count": 4,
      "metadata": {
        "colab": {
          "base_uri": "https://localhost:8080/"
        },
        "id": "rr7hW6rhjQNu",
        "outputId": "9916ca20-c763-4dbe-bc7d-de5d290ddbbe"
      },
      "outputs": [
        {
          "output_type": "stream",
          "name": "stdout",
          "text": [
            "Yohannes Paruntungan Purba\n",
            "4232401024\n",
            "20\n",
            "Laki-Laki\n",
            "Kristen Protestan\n",
            "O\n",
            "089531275633\n",
            "Badminton\n",
            "Teknik Elektro\n",
            "Teknologi Rekayasa Pembangkit Energi\n",
            "3\n",
            "Pemrograman Dasar\n",
            "False\n"
          ]
        }
      ],
      "source": [
        "# biodata saya\n",
        "\n",
        "nama = \"Yohannes Paruntungan Purba\"\n",
        "nim = \"4232401024\"\n",
        "umur = 20\n",
        "jenis_kelamin = \"Laki-Laki\"\n",
        "agama = \"Kristen Protestan\"\n",
        "hobi = \"Badminton\"\n",
        "jurusan = \"Teknik Elektro\"\n",
        "program_studi = \"Teknologi Rekayasa Pembangkit Energi\"\n",
        "semester = 3\n",
        "matakuliah = 'Pemrograman Dasar'\n",
        "status_lulus = False\n",
        "\n",
        "\n",
        "print (nama)\n",
        "print (nim)\n",
        "print (umur)\n",
        "print (jenis_kelamin)\n",
        "print (agama)\n",
        "print (golongan_darah)\n",
        "print (no_telepon)\n",
        "print (hobi)\n",
        "print (jurusan)\n",
        "print (program_studi)\n",
        "print (semester)\n",
        "print (matakuliah)\n",
        "print (status_lulus)"
      ]
    }
  ]
}